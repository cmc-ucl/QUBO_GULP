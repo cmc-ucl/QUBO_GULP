{
 "cells": [
  {
   "cell_type": "markdown",
   "metadata": {},
   "source": [
    "# Initial examples"
   ]
  },
  {
   "cell_type": "code",
   "execution_count": 1,
   "metadata": {},
   "outputs": [],
   "source": [
    "from QG_functions import *\n",
    "\n",
    "import numpy as np\n",
    "import pandas as pd\n",
    "\n",
    "from pymatgen.core.structure import Structure\n",
    "from pymatgen.symmetry.analyzer import SpacegroupAnalyzer\n",
    "from pymatgen.io.ase import AseAtomsAdaptor\n",
    "from pymatgen.core.periodic_table import Element\n",
    "from pymatgen.io.cif import *\n",
    "\n",
    "from ase.visualize import view\n",
    "\n",
    "\n",
    "from pymatgen.io.ase import AseAtomsAdaptor\n",
    "import sys\n",
    "\n",
    "import re\n",
    "import shutil as sh\n",
    "import pickle\n",
    "from tqdm import tqdm\n",
    "\n",
    "\n",
    "import copy\n",
    "from sklearn.metrics import mean_squared_error \n",
    "\n",
    "#import dataframe_image as dfi\n",
    "\n",
    "from scipy import constants\n",
    "from scipy.spatial import KDTree, distance_matrix\n",
    "\n",
    "import matplotlib.pyplot as plt\n",
    "\n",
    "import itertools\n",
    "from itertools import chain\n",
    "\n",
    "from sklearn.linear_model import LinearRegression\n",
    "# from sklearn.metrics import mean_squared_error as mse\n",
    "\n",
    "\n",
    "k_b = constants.physical_constants['Boltzmann constant in eV/K'][0]\n",
    "# print(k_b)\n",
    "def vview(structure):\n",
    "    view(AseAtomsAdaptor().get_atoms(structure))\n",
    "\n",
    "np.seterr(divide='ignore')\n",
    "plt.style.use('tableau-colorblind10')\n",
    "\n",
    "import seaborn as sns\n",
    "import time\n",
    "# from QG_functions import *"
   ]
  },
  {
   "cell_type": "markdown",
   "metadata": {},
   "source": [
    "## MgCaSrF"
   ]
  },
  {
   "cell_type": "code",
   "execution_count": 85,
   "metadata": {},
   "outputs": [],
   "source": [
    "CaF2 = Structure.from_file('data/structures/CaF2.cif')\n",
    "CaF2_charges = []\n",
    "for site in CaF2:\n",
    "    CaF2_charges.append(site.as_dict()['species'][0]['oxidation_state'])\n",
    "CaF2 = Structure(CaF2.lattice,CaF2.atomic_numbers,CaF2.frac_coords) # To avoid having the species called Ca0, Ca1 etc..."
   ]
  },
  {
   "cell_type": "code",
   "execution_count": 86,
   "metadata": {},
   "outputs": [
    {
     "name": "stdout",
     "output_type": "stream",
     "text": [
      "20 core 0.0 0.0 0.0\n",
      "20 core -1.688803838062887e-16 2.75802597 2.75802597\n",
      "20 core 2.75802597 0.0 2.75802597\n",
      "20 core 2.75802597 2.75802597 3.377607676125774e-16\n",
      "9 core 1.3790129849999997 4.1370389549999995 1.3790129850000001\n",
      "9 core 1.3790129849999997 4.1370389549999995 4.1370389549999995\n",
      "9 core 1.379012985 1.379012985 4.1370389549999995\n",
      "9 core 1.379012985 1.379012985 1.379012985\n",
      "9 core 4.1370389549999995 4.1370389549999995 4.137038955\n",
      "9 core 4.1370389549999995 4.1370389549999995 1.3790129850000004\n",
      "9 core 4.1370389549999995 1.379012985 1.3790129850000001\n",
      "9 core 4.1370389549999995 1.379012985 4.137038955\n"
     ]
    }
   ],
   "source": [
    "for an, line in zip(CaF2.atomic_numbers,CaF2.cart_coords):\n",
    "    print(an, 'core', line[0], line[1], line[2])"
   ]
  },
  {
   "cell_type": "code",
   "execution_count": 87,
   "metadata": {},
   "outputs": [
    {
     "data": {
      "text/plain": [
       "Structure Summary\n",
       "Lattice\n",
       "    abc : 3.9004377321512105 3.9004377321512105 3.9004377321512105\n",
       " angles : 59.99999999999999 59.99999999999999 59.99999999999999\n",
       " volume : 41.958992289963156\n",
       "      A : np.float64(-1.688803838062887e-16) np.float64(2.75802597) np.float64(2.75802597)\n",
       "      B : np.float64(2.75802597) np.float64(0.0) np.float64(2.75802597)\n",
       "      C : np.float64(2.75802597) np.float64(2.75802597) np.float64(3.377607676125774e-16)\n",
       "    pbc : True True True\n",
       "PeriodicSite: Ca (0.0, 0.0, 0.0) [0.0, 0.0, 0.0]\n",
       "PeriodicSite: F (4.137, 4.137, 4.137) [0.75, 0.75, 0.75]\n",
       "PeriodicSite: F (1.379, 1.379, 1.379) [0.25, 0.25, 0.25]"
      ]
     },
     "execution_count": 87,
     "metadata": {},
     "output_type": "execute_result"
    }
   ],
   "source": [
    "SpacegroupAnalyzer(CaF2).get_primitive_standard_structure()"
   ]
  },
  {
   "cell_type": "code",
   "execution_count": null,
   "metadata": {},
   "outputs": [],
   "source": [
    "\n"
   ]
  },
  {
   "cell_type": "code",
   "execution_count": 6,
   "metadata": {},
   "outputs": [
    {
     "name": "stderr",
     "output_type": "stream",
     "text": [
      "Computing real space: 100%|██████████| 12/12 [00:00<00:00, 12.13it/s]\n"
     ]
    }
   ],
   "source": [
    "# EWALD\n",
    "ewald_matrix = compute_ewald_matrix(CaF2)"
   ]
  },
  {
   "cell_type": "code",
   "execution_count": null,
   "metadata": {},
   "outputs": [],
   "source": [
    "ewald_matrix_charges = calculate_ewald_matrix_charges(ewald_matrix,CaF2_charges)"
   ]
  },
  {
   "cell_type": "code",
   "execution_count": 21,
   "metadata": {},
   "outputs": [
    {
     "data": {
      "text/plain": [
       "np.float64(-121.50902629551034)"
      ]
     },
     "execution_count": 21,
     "metadata": {},
     "output_type": "execute_result"
    }
   ],
   "source": [
    "np.sum(ewald_matrix_charges)"
   ]
  },
  {
   "cell_type": "code",
   "execution_count": 41,
   "metadata": {},
   "outputs": [
    {
     "name": "stderr",
     "output_type": "stream",
     "text": [
      "2025-04-10 08:21:03.488 python[61801:24108081] +[IMKClient subclass]: chose IMKClient_Modern\n",
      "2025-04-10 08:21:03.488 python[61801:24108081] +[IMKInputSession subclass]: chose IMKInputSession_Modern\n"
     ]
    }
   ],
   "source": [
    "vview(CaF2)"
   ]
  },
  {
   "cell_type": "code",
   "execution_count": 43,
   "metadata": {},
   "outputs": [
    {
     "data": {
      "text/plain": [
       "192"
      ]
     },
     "execution_count": 43,
     "metadata": {},
     "output_type": "execute_result"
    }
   ],
   "source": [
    "len(SpacegroupAnalyzer(CaF2).get_space_group_operations())"
   ]
  },
  {
   "cell_type": "code",
   "execution_count": null,
   "metadata": {},
   "outputs": [
    {
     "name": "stderr",
     "output_type": "stream",
     "text": [
      "Buckingham matrix: 100%|██████████| 12/12 [00:15<00:00,  1.29s/it]\n"
     ]
    },
    {
     "data": {
      "text/plain": [
       "np.float64(11.987011332205034)"
      ]
     },
     "execution_count": 37,
     "metadata": {},
     "output_type": "execute_result"
    }
   ],
   "source": [
    "# BUCKINGHAM\n",
    "buckingham_dict = {'Ca-F':[1293.6,   0.2990,   0.0],\n",
    "                   'F-F':[22764.0 , 0.1490,  27.88]}\n",
    "np.sum(compute_buckingham_matrix(CaF2,buckingham_dict,R_max=25))"
   ]
  },
  {
   "cell_type": "code",
   "execution_count": 40,
   "metadata": {},
   "outputs": [
    {
     "name": "stderr",
     "output_type": "stream",
     "text": [
      "Buckingham matrix: 100%|██████████| 12/12 [00:00<00:00, 46.31it/s]\n"
     ]
    },
    {
     "data": {
      "text/plain": [
       "array([[ 0.        ,  0.        ,  0.        ,  0.        ,  0.43992378,\n",
       "         0.43992378,  0.43992378,  0.43992378,  0.43992378,  0.43992378,\n",
       "         0.43992378,  0.43992378],\n",
       "       [ 0.        ,  0.        ,  0.        ,  0.        ,  0.43992378,\n",
       "         0.43992378,  0.43992378,  0.43992378,  0.43992378,  0.43992378,\n",
       "         0.43992378,  0.43992378],\n",
       "       [ 0.        ,  0.        ,  0.        ,  0.        ,  0.43992378,\n",
       "         0.43992378,  0.43992378,  0.43992378,  0.43992378,  0.43992378,\n",
       "         0.43992378,  0.43992378],\n",
       "       [ 0.        ,  0.        ,  0.        ,  0.        ,  0.43992378,\n",
       "         0.43992378,  0.43992378,  0.43992378,  0.43992378,  0.43992378,\n",
       "         0.43992378,  0.43992378],\n",
       "       [ 0.        ,  0.        ,  0.        ,  0.        ,  0.        ,\n",
       "        -0.13198396, -0.03533104, -0.13198396, -0.03533104, -0.13198396,\n",
       "        -0.03533104, -0.0203839 ],\n",
       "       [ 0.        ,  0.        ,  0.        ,  0.        ,  0.        ,\n",
       "         0.        , -0.13198396, -0.03533104, -0.13198396, -0.03533104,\n",
       "        -0.0203839 , -0.03533104],\n",
       "       [ 0.        ,  0.        ,  0.        ,  0.        ,  0.        ,\n",
       "         0.        ,  0.        , -0.13198396, -0.03533104, -0.0203839 ,\n",
       "        -0.03533104, -0.13198396],\n",
       "       [ 0.        ,  0.        ,  0.        ,  0.        ,  0.        ,\n",
       "         0.        ,  0.        ,  0.        , -0.0203839 , -0.03533104,\n",
       "        -0.13198396, -0.03533104],\n",
       "       [ 0.        ,  0.        ,  0.        ,  0.        ,  0.        ,\n",
       "         0.        ,  0.        ,  0.        ,  0.        , -0.13198396,\n",
       "        -0.03533104, -0.13198396],\n",
       "       [ 0.        ,  0.        ,  0.        ,  0.        ,  0.        ,\n",
       "         0.        ,  0.        ,  0.        ,  0.        ,  0.        ,\n",
       "        -0.13198396, -0.03533104],\n",
       "       [ 0.        ,  0.        ,  0.        ,  0.        ,  0.        ,\n",
       "         0.        ,  0.        ,  0.        ,  0.        ,  0.        ,\n",
       "         0.        , -0.13198396],\n",
       "       [ 0.        ,  0.        ,  0.        ,  0.        ,  0.        ,\n",
       "         0.        ,  0.        ,  0.        ,  0.        ,  0.        ,\n",
       "         0.        ,  0.        ]])"
      ]
     },
     "execution_count": 40,
     "metadata": {},
     "output_type": "execute_result"
    }
   ],
   "source": [
    "compute_buckingham_matrix(CaF2,buckingham_dict,R_max=25)"
   ]
  },
  {
   "cell_type": "code",
   "execution_count": 38,
   "metadata": {},
   "outputs": [],
   "source": [
    "CaMgF = copy.deepcopy(CaF2)\n",
    "CaMgF[0] = 'Mg'"
   ]
  },
  {
   "cell_type": "code",
   "execution_count": 39,
   "metadata": {},
   "outputs": [
    {
     "data": {
      "text/plain": [
       "Structure Summary\n",
       "Lattice\n",
       "    abc : 5.51605194 5.51605194 5.51605194\n",
       " angles : 90.0 90.0 90.0\n",
       " volume : 167.83596915985262\n",
       "      A : np.float64(5.51605194) np.float64(0.0) np.float64(3.377607676125774e-16)\n",
       "      B : np.float64(-3.377607676125774e-16) np.float64(5.51605194) np.float64(3.377607676125774e-16)\n",
       "      C : np.float64(0.0) np.float64(0.0) np.float64(5.51605194)\n",
       "    pbc : True True True\n",
       "PeriodicSite: Mg (0.0, 0.0, 0.0) [0.0, 0.0, 0.0]\n",
       "PeriodicSite: Ca (-1.689e-16, 2.758, 2.758) [0.0, 0.5, 0.5]\n",
       "PeriodicSite: Ca (2.758, 0.0, 2.758) [0.5, 0.0, 0.5]\n",
       "PeriodicSite: Ca (2.758, 2.758, 3.378e-16) [0.5, 0.5, 0.0]\n",
       "PeriodicSite: F (1.379, 4.137, 1.379) [0.25, 0.75, 0.25]\n",
       "PeriodicSite: F (1.379, 4.137, 4.137) [0.25, 0.75, 0.75]\n",
       "PeriodicSite: F (1.379, 1.379, 4.137) [0.25, 0.25, 0.75]\n",
       "PeriodicSite: F (1.379, 1.379, 1.379) [0.25, 0.25, 0.25]\n",
       "PeriodicSite: F (4.137, 4.137, 4.137) [0.75, 0.75, 0.75]\n",
       "PeriodicSite: F (4.137, 4.137, 1.379) [0.75, 0.75, 0.25]\n",
       "PeriodicSite: F (4.137, 1.379, 1.379) [0.75, 0.25, 0.25]\n",
       "PeriodicSite: F (4.137, 1.379, 4.137) [0.75, 0.25, 0.75]"
      ]
     },
     "execution_count": 39,
     "metadata": {},
     "output_type": "execute_result"
    }
   ],
   "source": [
    "CaMgF"
   ]
  },
  {
   "cell_type": "markdown",
   "metadata": {},
   "source": [
    "## Exhaustive search\n"
   ]
  },
  {
   "cell_type": "code",
   "execution_count": 53,
   "metadata": {},
   "outputs": [],
   "source": [
    "# READ CRYSTAL OUTPUT\n",
    "def extract_ca_occupation_vectors(filepath, num_sites=8, output_csv=None):\n",
    "    \"\"\"\n",
    "    Extract binary vectors for CA occupation from a structured output file.\n",
    "\n",
    "    Parameters:\n",
    "        filepath (str): Path to the file to parse.\n",
    "        num_sites (int): Number of sites to consider (default is 8).\n",
    "        output_csv (str or None): Path to save the CSV (optional).\n",
    "    \n",
    "    Returns:\n",
    "        pd.DataFrame: DataFrame of binary vectors.\n",
    "    \"\"\"\n",
    "    with open(filepath, \"r\") as file:\n",
    "        lines = file.readlines()\n",
    "\n",
    "    vectors = []\n",
    "\n",
    "    for line in lines:\n",
    "        if line.strip().startswith(\"CA\"):\n",
    "            # Extract site indices from the CA line\n",
    "            indices = line.strip().split()[1:]\n",
    "            indices = [int(i) for i in indices if i.isdigit()]\n",
    "            vector = np.zeros(num_sites, dtype=int)\n",
    "            for idx in indices:\n",
    "                if 1 <= idx <= num_sites:\n",
    "                    vector[idx - 1] = 1\n",
    "            vectors.append(vector)\n",
    "\n",
    "    df = pd.DataFrame(vectors, columns=[f\"Site_{i+1}\" for i in range(num_sites)])\n",
    "    \n",
    "    if output_csv:\n",
    "        df.to_csv(output_csv, index=False)\n",
    "        print(f\"Saved CSV to {output_csv}\")\n",
    "\n",
    "    return df"
   ]
  },
  {
   "cell_type": "code",
   "execution_count": 54,
   "metadata": {},
   "outputs": [],
   "source": [
    "# Example usage:\n",
    "df_ca = extract_ca_occupation_vectors(\"data/crystal/caf2_confcount_short.out\", output_csv=None)\n",
    "binary_occ = df_ca.values"
   ]
  },
  {
   "cell_type": "code",
   "execution_count": 60,
   "metadata": {},
   "outputs": [
    {
     "data": {
      "text/plain": [
       "Structure Summary\n",
       "Lattice\n",
       "    abc : 3.9004377321512105 3.9004377321512105 3.9004377321512105\n",
       " angles : 59.99999999999999 59.99999999999999 59.99999999999999\n",
       " volume : 41.958992289963156\n",
       "      A : np.float64(-1.688803838062887e-16) np.float64(2.75802597) np.float64(2.75802597)\n",
       "      B : np.float64(2.75802597) np.float64(0.0) np.float64(2.75802597)\n",
       "      C : np.float64(2.75802597) np.float64(2.75802597) np.float64(3.377607676125774e-16)\n",
       "    pbc : True True True\n",
       "PeriodicSite: Ca (0.0, 0.0, 0.0) [0.0, 0.0, 0.0]\n",
       "PeriodicSite: F (4.137, 4.137, 4.137) [0.75, 0.75, 0.75]\n",
       "PeriodicSite: F (1.379, 1.379, 1.379) [0.25, 0.25, 0.25]"
      ]
     },
     "execution_count": 60,
     "metadata": {},
     "output_type": "execute_result"
    }
   ],
   "source": [
    "SpacegroupAnalyzer(CaF2).get_primitive_standard_structure()"
   ]
  },
  {
   "cell_type": "code",
   "execution_count": 70,
   "metadata": {},
   "outputs": [],
   "source": [
    "with open(\"data/crystal/GULP/CaF2_prim_super2/gulp_input.gin\",\"r\") as f:\n",
    "    gulp_input = f.readlines()"
   ]
  },
  {
   "cell_type": "code",
   "execution_count": 71,
   "metadata": {},
   "outputs": [
    {
     "data": {
      "text/plain": [
       "['opti fbfgs conp property phon comp\\n',\n",
       " 'vectors\\n',\n",
       " '     0.000     5.340     5.340\\n',\n",
       " '     5.340     0.000     5.340\\n',\n",
       " '     5.340     5.340     0.000\\n',\n",
       " '0 0 0 0 0 0\\n',\n",
       " 'cartesian\\n',\n",
       " 'Ca core  0.000000000000E+00  0.000000000000E+00  0.000000000000E+00\\n',\n",
       " 'Ca core -2.670100500000E+00 -2.670100500000E+00  0.000000000000E+00\\n',\n",
       " 'Ca core -2.670100500000E+00  0.000000000000E+00 -2.670100500000E+00\\n',\n",
       " 'Ca core -5.340201000000E+00 -2.670100500000E+00 -2.670100500000E+00\\n',\n",
       " 'Ca core  0.000000000000E+00 -2.670100500000E+00 -2.670100500000E+00\\n',\n",
       " 'Ca core -2.670100500000E+00 -5.340201000000E+00 -2.670100500000E+00\\n',\n",
       " 'Ca core -2.670100500000E+00 -2.670100500000E+00 -5.340201000000E+00\\n',\n",
       " 'Ca core -5.340201000000E+00 -5.340201000000E+00 -5.340201000000E+00\\n',\n",
       " 'F  core -1.335050250000E+00 -1.335050250000E+00 -1.335050250000E+00\\n',\n",
       " 'F  core  1.335050250000E+00  1.335050250000E+00 -1.335050250000E+00\\n',\n",
       " 'F  core  1.335050250000E+00 -1.335050250000E+00  1.335050250000E+00\\n',\n",
       " 'F  core  4.005150750000E+00  1.335050250000E+00  1.335050250000E+00\\n',\n",
       " 'F  core -1.335050250000E+00  1.335050250000E+00  1.335050250000E+00\\n',\n",
       " 'F  core  1.335050250000E+00  4.005150750000E+00  1.335050250000E+00\\n',\n",
       " 'F  core  1.335050250000E+00  1.335050250000E+00  4.005150750000E+00\\n',\n",
       " 'F  core  4.005150750000E+00  4.005150750000E+00  4.005150750000E+00\\n',\n",
       " 'F  core  1.335050250000E+00 -1.335050250000E+00 -1.335050250000E+00\\n',\n",
       " 'F  core -1.335050250000E+00 -4.005150750000E+00 -1.335050250000E+00\\n',\n",
       " 'F  core -1.335050250000E+00 -1.335050250000E+00 -4.005150750000E+00\\n',\n",
       " 'F  core -4.005150750000E+00 -4.005150750000E+00 -4.005150750000E+00\\n',\n",
       " 'F  core  1.335050250000E+00  1.335050250000E+00  1.335050250000E+00\\n',\n",
       " 'F  core -1.335050250000E+00 -1.335050250000E+00  1.335050250000E+00\\n',\n",
       " 'F  core -1.335050250000E+00  1.335050250000E+00 -1.335050250000E+00\\n',\n",
       " 'F  core -4.005150750000E+00 -1.335050250000E+00 -1.335050250000E+00\\n',\n",
       " 'species\\n',\n",
       " 'Mg     core    2.000000\\n',\n",
       " 'Ca     core    2.000000\\n',\n",
       " 'F      core    -1.00000\\n',\n",
       " 'buck\\n',\n",
       " 'Mg  core  F  core  821.6    0.3242   0.0     0.0  25.0\\n',\n",
       " 'Ca  core  F  core  1293.6   0.2990   0.0     0.0  25.0\\n',\n",
       " 'F   core  F  core  22764.0  0.1490  27.88    0.0  25.0']"
      ]
     },
     "execution_count": 71,
     "metadata": {},
     "output_type": "execute_result"
    }
   ],
   "source": [
    "gulp_input"
   ]
  },
  {
   "cell_type": "code",
   "execution_count": 72,
   "metadata": {},
   "outputs": [
    {
     "name": "stdout",
     "output_type": "stream",
     "text": [
      "cd CaF2_prim_super2_0\n",
      "/work/e05/e05/bcamino/klmc/KLMC3-libgulp-6.1.2/Src/_build_libgulp/gulp.x\n",
      "cd ..\n",
      "cd CaF2_prim_super2_1\n",
      "/work/e05/e05/bcamino/klmc/KLMC3-libgulp-6.1.2/Src/_build_libgulp/gulp.x\n",
      "cd ..\n",
      "cd CaF2_prim_super2_2\n",
      "/work/e05/e05/bcamino/klmc/KLMC3-libgulp-6.1.2/Src/_build_libgulp/gulp.x\n",
      "cd ..\n",
      "cd CaF2_prim_super2_3\n",
      "/work/e05/e05/bcamino/klmc/KLMC3-libgulp-6.1.2/Src/_build_libgulp/gulp.x\n",
      "cd ..\n",
      "cd CaF2_prim_super2_4\n",
      "/work/e05/e05/bcamino/klmc/KLMC3-libgulp-6.1.2/Src/_build_libgulp/gulp.x\n",
      "cd ..\n",
      "cd CaF2_prim_super2_5\n",
      "/work/e05/e05/bcamino/klmc/KLMC3-libgulp-6.1.2/Src/_build_libgulp/gulp.x\n",
      "cd ..\n",
      "cd CaF2_prim_super2_6\n",
      "/work/e05/e05/bcamino/klmc/KLMC3-libgulp-6.1.2/Src/_build_libgulp/gulp.x\n",
      "cd ..\n",
      "cd CaF2_prim_super2_7\n",
      "/work/e05/e05/bcamino/klmc/KLMC3-libgulp-6.1.2/Src/_build_libgulp/gulp.x\n",
      "cd ..\n",
      "cd CaF2_prim_super2_8\n",
      "/work/e05/e05/bcamino/klmc/KLMC3-libgulp-6.1.2/Src/_build_libgulp/gulp.x\n",
      "cd ..\n",
      "cd CaF2_prim_super2_9\n",
      "/work/e05/e05/bcamino/klmc/KLMC3-libgulp-6.1.2/Src/_build_libgulp/gulp.x\n",
      "cd ..\n",
      "cd CaF2_prim_super2_10\n",
      "/work/e05/e05/bcamino/klmc/KLMC3-libgulp-6.1.2/Src/_build_libgulp/gulp.x\n",
      "cd ..\n",
      "cd CaF2_prim_super2_11\n",
      "/work/e05/e05/bcamino/klmc/KLMC3-libgulp-6.1.2/Src/_build_libgulp/gulp.x\n",
      "cd ..\n",
      "cd CaF2_prim_super2_12\n",
      "/work/e05/e05/bcamino/klmc/KLMC3-libgulp-6.1.2/Src/_build_libgulp/gulp.x\n",
      "cd ..\n",
      "cd CaF2_prim_super2_13\n",
      "/work/e05/e05/bcamino/klmc/KLMC3-libgulp-6.1.2/Src/_build_libgulp/gulp.x\n",
      "cd ..\n",
      "cd CaF2_prim_super2_14\n",
      "/work/e05/e05/bcamino/klmc/KLMC3-libgulp-6.1.2/Src/_build_libgulp/gulp.x\n",
      "cd ..\n",
      "cd CaF2_prim_super2_15\n",
      "/work/e05/e05/bcamino/klmc/KLMC3-libgulp-6.1.2/Src/_build_libgulp/gulp.x\n",
      "cd ..\n"
     ]
    }
   ],
   "source": [
    "# WRITE GULP INPUT\n",
    "for i,bv in enumerate(binary_occ):\n",
    "    gulp_input_tmp = copy.deepcopy(gulp_input)\n",
    "    indices = np.where(bv == 0)[0]\n",
    "    for idx in indices:\n",
    "        gulp_input_tmp[7+idx] = 'Mg' + gulp_input_tmp[7+idx][2:]\n",
    "    # print(gulp_input_tmp)\n",
    "    folder = f'data/crystal/GULP/CaF2_prim_super2/CaF2_prim_super2_{i}'\n",
    "    os.makedirs(folder, exist_ok=True)\n",
    "    with open(os.path.join(folder,'gulp_klmc.gin'),'w') as f:\n",
    "        f.writelines(gulp_input_tmp)\n",
    "    print(f'cd CaF2_prim_super2_{i}')\n",
    "    print('/work/e05/e05/bcamino/klmc/KLMC3-libgulp-6.1.2/Src/_build_libgulp/gulp.x')\n",
    "    print('cd ..')\n"
   ]
  },
  {
   "cell_type": "code",
   "execution_count": null,
   "metadata": {},
   "outputs": [
    {
     "ename": "SyntaxError",
     "evalue": "invalid syntax. Perhaps you forgot a comma? (2014851385.py, line 37)",
     "output_type": "error",
     "traceback": [
      "\u001b[0;36m  Cell \u001b[0;32mIn[82], line 37\u001b[0;36m\u001b[0m\n\u001b[0;31m    print(\"Final energies:\", final_energimport numpy as np\u001b[0m\n\u001b[0m                             ^\u001b[0m\n\u001b[0;31mSyntaxError\u001b[0m\u001b[0;31m:\u001b[0m invalid syntax. Perhaps you forgot a comma?\n"
     ]
    }
   ],
   "source": [
    "# READ THE INITIAL AND FINAL ENERGY\n",
    "import os\n",
    "import re\n",
    "import numpy as np\n",
    "\n",
    "# Define the parent folder where all subfolders are\n",
    "parent_dir = 'data/crystal/GULP/CaF2_prim_super2'\n",
    "subfolders = [f for f in os.listdir(parent_dir) if os.path.isdir(os.path.join(parent_dir, f))]\n",
    "\n",
    "initial_energy = []\n",
    "final_energy = []\n",
    "\n",
    "for folder in sorted(subfolders):  # sort optional\n",
    "    gout_path = os.path.join(parent_dir, folder, 'gulp_klmc.gout')\n",
    "    if not os.path.isfile(gout_path):\n",
    "        continue\n",
    "\n",
    "    with open(gout_path, 'r') as file:\n",
    "        eV_energies = []\n",
    "        for line in file:\n",
    "            if 'Total lattice energy' in line and 'eV' in line:\n",
    "                match = re.search(r'=\\s*(-?\\d+\\.\\d+)', line)\n",
    "                if match:\n",
    "                    eV_energies.append(float(match.group(1)))\n",
    "\n",
    "        if len(eV_energies) >= 2:\n",
    "            initial_energy.append(eV_energies[0])\n",
    "            final_energy.append(eV_energies[1])\n",
    "        else:\n",
    "            print(f\"Not enough eV energy entries in {gout_path}\")\n",
    "\n",
    "# Convert to NumPy arrays\n",
    "initial_energy = np.array(initial_energy)\n",
    "final_energy = np.array(final_energy)\n",
    "\n",
    "print(\"Initial energies:\", initial_energy)\n",
    "print(\"Final energies:\", final_energy)"
   ]
  },
  {
   "cell_type": "code",
   "execution_count": 83,
   "metadata": {},
   "outputs": [
    {
     "data": {
      "image/png": "[encoded data removed]",
      "text/plain": [
       "<Figure size 600x600 with 1 Axes>"
      ]
     },
     "metadata": {},
     "output_type": "display_data"
    }
   ],
   "source": [
    "import numpy as np\n",
    "import matplotlib.pyplot as plt\n",
    "\n",
    "# Compute ranks (argsort gives indices to sort, argsort again gives the ranks)\n",
    "initial_ranks = np.argsort(np.argsort(initial_energy))\n",
    "final_ranks = np.argsort(np.argsort(final_energy))\n",
    "\n",
    "plt.figure(figsize=(6, 6))\n",
    "plt.scatter(initial_ranks, final_ranks, alpha=0.7)\n",
    "plt.plot([0, len(initial_energy)], [0, len(final_energy)], 'r--', label='Perfect Rank Correlation')\n",
    "\n",
    "plt.xlabel(\"Initial Energy Rank\")\n",
    "plt.ylabel(\"Final Energy Rank\")\n",
    "plt.title(\"Rank Correlation Between Initial and Final Energies\")\n",
    "plt.grid(True)\n",
    "plt.legend()\n",
    "plt.tight_layout()\n",
    "plt.show()"
   ]
  },
  {
   "cell_type": "code",
   "execution_count": 84,
   "metadata": {},
   "outputs": [
    {
     "data": {
      "text/plain": [
       "Structure Summary\n",
       "Lattice\n",
       "    abc : 11.03210388 11.03210388 11.03210388\n",
       " angles : 90.0 90.0 90.0\n",
       " volume : 1342.687753278821\n",
       "      A : np.float64(11.03210388) np.float64(0.0) np.float64(6.755215352251548e-16)\n",
       "      B : np.float64(-6.755215352251548e-16) np.float64(11.03210388) np.float64(6.755215352251548e-16)\n",
       "      C : np.float64(0.0) np.float64(0.0) np.float64(11.03210388)\n",
       "    pbc : True True True\n",
       "PeriodicSite: Ca (0.0, 0.0, 0.0) [0.0, 0.0, 0.0]\n",
       "PeriodicSite: Ca (0.0, 0.0, 5.516) [0.0, 0.0, 0.5]\n",
       "PeriodicSite: Ca (-3.378e-16, 5.516, 3.378e-16) [0.0, 0.5, 6.163e-33]\n",
       "PeriodicSite: Ca (-3.378e-16, 5.516, 5.516) [0.0, 0.5, 0.5]\n",
       "PeriodicSite: Ca (5.516, 0.0, 3.378e-16) [0.5, 0.0, 2.589e-33]\n",
       "PeriodicSite: Ca (5.516, 0.0, 5.516) [0.5, 0.0, 0.5]\n",
       "PeriodicSite: Ca (5.516, 5.516, 6.755e-16) [0.5, 0.5, 6.163e-33]\n",
       "PeriodicSite: Ca (5.516, 5.516, 5.516) [0.5, 0.5, 0.5]\n",
       "PeriodicSite: Ca (-1.689e-16, 2.758, 2.758) [0.0, 0.25, 0.25]\n",
       "PeriodicSite: Ca (-1.689e-16, 2.758, 8.274) [0.0, 0.25, 0.75]\n",
       "PeriodicSite: Ca (-5.066e-16, 8.274, 2.758) [0.0, 0.75, 0.25]\n",
       "PeriodicSite: Ca (-5.066e-16, 8.274, 8.274) [0.0, 0.75, 0.75]\n",
       "PeriodicSite: Ca (5.516, 2.758, 2.758) [0.5, 0.25, 0.25]\n",
       "PeriodicSite: Ca (5.516, 2.758, 8.274) [0.5, 0.25, 0.75]\n",
       "PeriodicSite: Ca (5.516, 8.274, 2.758) [0.5, 0.75, 0.25]\n",
       "PeriodicSite: Ca (5.516, 8.274, 8.274) [0.5, 0.75, 0.75]\n",
       "PeriodicSite: Ca (2.758, 0.0, 2.758) [0.25, 0.0, 0.25]\n",
       "PeriodicSite: Ca (2.758, 0.0, 8.274) [0.25, 0.0, 0.75]\n",
       "PeriodicSite: Ca (2.758, 5.516, 2.758) [0.25, 0.5, 0.25]\n",
       "PeriodicSite: Ca (2.758, 5.516, 8.274) [0.25, 0.5, 0.75]\n",
       "PeriodicSite: Ca (8.274, 0.0, 2.758) [0.75, 0.0, 0.25]\n",
       "PeriodicSite: Ca (8.274, 0.0, 8.274) [0.75, 0.0, 0.75]\n",
       "PeriodicSite: Ca (8.274, 5.516, 2.758) [0.75, 0.5, 0.25]\n",
       "PeriodicSite: Ca (8.274, 5.516, 8.274) [0.75, 0.5, 0.75]\n",
       "PeriodicSite: Ca (2.758, 2.758, 3.378e-16) [0.25, 0.25, 3.081e-33]\n",
       "PeriodicSite: Ca (2.758, 2.758, 5.516) [0.25, 0.25, 0.5]\n",
       "PeriodicSite: Ca (2.758, 8.274, 6.755e-16) [0.25, 0.75, 0.0]\n",
       "PeriodicSite: Ca (2.758, 8.274, 5.516) [0.25, 0.75, 0.5]\n",
       "PeriodicSite: Ca (8.274, 2.758, 6.755e-16) [0.75, 0.25, 3.081e-33]\n",
       "PeriodicSite: Ca (8.274, 2.758, 5.516) [0.75, 0.25, 0.5]\n",
       "PeriodicSite: Ca (8.274, 8.274, 1.013e-15) [0.75, 0.75, 0.0]\n",
       "PeriodicSite: Ca (8.274, 8.274, 5.516) [0.75, 0.75, 0.5]\n",
       "PeriodicSite: F (1.379, 4.137, 1.379) [0.125, 0.375, 0.125]\n",
       "PeriodicSite: F (1.379, 4.137, 6.895) [0.125, 0.375, 0.625]\n",
       "PeriodicSite: F (1.379, 9.653, 1.379) [0.125, 0.875, 0.125]\n",
       "PeriodicSite: F (1.379, 9.653, 6.895) [0.125, 0.875, 0.625]\n",
       "PeriodicSite: F (6.895, 4.137, 1.379) [0.625, 0.375, 0.125]\n",
       "PeriodicSite: F (6.895, 4.137, 6.895) [0.625, 0.375, 0.625]\n",
       "PeriodicSite: F (6.895, 9.653, 1.379) [0.625, 0.875, 0.125]\n",
       "PeriodicSite: F (6.895, 9.653, 6.895) [0.625, 0.875, 0.625]\n",
       "PeriodicSite: F (1.379, 4.137, 4.137) [0.125, 0.375, 0.375]\n",
       "PeriodicSite: F (1.379, 4.137, 9.653) [0.125, 0.375, 0.875]\n",
       "PeriodicSite: F (1.379, 9.653, 4.137) [0.125, 0.875, 0.375]\n",
       "PeriodicSite: F (1.379, 9.653, 9.653) [0.125, 0.875, 0.875]\n",
       "PeriodicSite: F (6.895, 4.137, 4.137) [0.625, 0.375, 0.375]\n",
       "PeriodicSite: F (6.895, 4.137, 9.653) [0.625, 0.375, 0.875]\n",
       "PeriodicSite: F (6.895, 9.653, 4.137) [0.625, 0.875, 0.375]\n",
       "PeriodicSite: F (6.895, 9.653, 9.653) [0.625, 0.875, 0.875]\n",
       "PeriodicSite: F (1.379, 1.379, 4.137) [0.125, 0.125, 0.375]\n",
       "PeriodicSite: F (1.379, 1.379, 9.653) [0.125, 0.125, 0.875]\n",
       "PeriodicSite: F (1.379, 6.895, 4.137) [0.125, 0.625, 0.375]\n",
       "PeriodicSite: F (1.379, 6.895, 9.653) [0.125, 0.625, 0.875]\n",
       "PeriodicSite: F (6.895, 1.379, 4.137) [0.625, 0.125, 0.375]\n",
       "PeriodicSite: F (6.895, 1.379, 9.653) [0.625, 0.125, 0.875]\n",
       "PeriodicSite: F (6.895, 6.895, 4.137) [0.625, 0.625, 0.375]\n",
       "PeriodicSite: F (6.895, 6.895, 9.653) [0.625, 0.625, 0.875]\n",
       "PeriodicSite: F (1.379, 1.379, 1.379) [0.125, 0.125, 0.125]\n",
       "PeriodicSite: F (1.379, 1.379, 6.895) [0.125, 0.125, 0.625]\n",
       "PeriodicSite: F (1.379, 6.895, 1.379) [0.125, 0.625, 0.125]\n",
       "PeriodicSite: F (1.379, 6.895, 6.895) [0.125, 0.625, 0.625]\n",
       "PeriodicSite: F (6.895, 1.379, 1.379) [0.625, 0.125, 0.125]\n",
       "PeriodicSite: F (6.895, 1.379, 6.895) [0.625, 0.125, 0.625]\n",
       "PeriodicSite: F (6.895, 6.895, 1.379) [0.625, 0.625, 0.125]\n",
       "PeriodicSite: F (6.895, 6.895, 6.895) [0.625, 0.625, 0.625]\n",
       "PeriodicSite: F (4.137, 4.137, 4.137) [0.375, 0.375, 0.375]\n",
       "PeriodicSite: F (4.137, 4.137, 9.653) [0.375, 0.375, 0.875]\n",
       "PeriodicSite: F (4.137, 9.653, 4.137) [0.375, 0.875, 0.375]\n",
       "PeriodicSite: F (4.137, 9.653, 9.653) [0.375, 0.875, 0.875]\n",
       "PeriodicSite: F (9.653, 4.137, 4.137) [0.875, 0.375, 0.375]\n",
       "PeriodicSite: F (9.653, 4.137, 9.653) [0.875, 0.375, 0.875]\n",
       "PeriodicSite: F (9.653, 9.653, 4.137) [0.875, 0.875, 0.375]\n",
       "PeriodicSite: F (9.653, 9.653, 9.653) [0.875, 0.875, 0.875]\n",
       "PeriodicSite: F (4.137, 4.137, 1.379) [0.375, 0.375, 0.125]\n",
       "PeriodicSite: F (4.137, 4.137, 6.895) [0.375, 0.375, 0.625]\n",
       "PeriodicSite: F (4.137, 9.653, 1.379) [0.375, 0.875, 0.125]\n",
       "PeriodicSite: F (4.137, 9.653, 6.895) [0.375, 0.875, 0.625]\n",
       "PeriodicSite: F (9.653, 4.137, 1.379) [0.875, 0.375, 0.125]\n",
       "PeriodicSite: F (9.653, 4.137, 6.895) [0.875, 0.375, 0.625]\n",
       "PeriodicSite: F (9.653, 9.653, 1.379) [0.875, 0.875, 0.125]\n",
       "PeriodicSite: F (9.653, 9.653, 6.895) [0.875, 0.875, 0.625]\n",
       "PeriodicSite: F (4.137, 1.379, 1.379) [0.375, 0.125, 0.125]\n",
       "PeriodicSite: F (4.137, 1.379, 6.895) [0.375, 0.125, 0.625]\n",
       "PeriodicSite: F (4.137, 6.895, 1.379) [0.375, 0.625, 0.125]\n",
       "PeriodicSite: F (4.137, 6.895, 6.895) [0.375, 0.625, 0.625]\n",
       "PeriodicSite: F (9.653, 1.379, 1.379) [0.875, 0.125, 0.125]\n",
       "PeriodicSite: F (9.653, 1.379, 6.895) [0.875, 0.125, 0.625]\n",
       "PeriodicSite: F (9.653, 6.895, 1.379) [0.875, 0.625, 0.125]\n",
       "PeriodicSite: F (9.653, 6.895, 6.895) [0.875, 0.625, 0.625]\n",
       "PeriodicSite: F (4.137, 1.379, 4.137) [0.375, 0.125, 0.375]\n",
       "PeriodicSite: F (4.137, 1.379, 9.653) [0.375, 0.125, 0.875]\n",
       "PeriodicSite: F (4.137, 6.895, 4.137) [0.375, 0.625, 0.375]\n",
       "PeriodicSite: F (4.137, 6.895, 9.653) [0.375, 0.625, 0.875]\n",
       "PeriodicSite: F (9.653, 1.379, 4.137) [0.875, 0.125, 0.375]\n",
       "PeriodicSite: F (9.653, 1.379, 9.653) [0.875, 0.125, 0.875]\n",
       "PeriodicSite: F (9.653, 6.895, 4.137) [0.875, 0.625, 0.375]\n",
       "PeriodicSite: F (9.653, 6.895, 9.653) [0.875, 0.625, 0.875]"
      ]
     },
     "execution_count": 84,
     "metadata": {},
     "output_type": "execute_result"
    }
   ],
   "source": [
    "CaF2"
   ]
  },
  {
   "cell_type": "code",
   "execution_count": 80,
   "metadata": {},
   "outputs": [
    {
     "data": {
      "text/plain": [
       "<BarContainer object of 16 artists>"
      ]
     },
     "execution_count": 80,
     "metadata": {},
     "output_type": "execute_result"
    },
    {
     "data": {
      "image/png": "[encoded data removed]",
      "text/plain": [
       "<Figure size 640x480 with 1 Axes>"
      ]
     },
     "metadata": {},
     "output_type": "display_data"
    }
   ],
   "source": [
    "plt.bar(np.arange(len(initial_energy)),final_energy-initial_energy)"
   ]
  },
  {
   "cell_type": "code",
   "execution_count": 75,
   "metadata": {},
   "outputs": [
    {
     "data": {
      "text/plain": [
       "array([ 0,  1,  8,  9, 10, 11, 12, 13, 14, 15,  2,  3,  4,  5,  6,  7])"
      ]
     },
     "execution_count": 75,
     "metadata": {},
     "output_type": "execute_result"
    }
   ],
   "source": [
    "np.argsort(final_energy)"
   ]
  },
  {
   "cell_type": "code",
   "execution_count": 81,
   "metadata": {},
   "outputs": [
    {
     "data": {
      "image/png": "[encoded data removed]",
      "text/plain": [
       "<Figure size 600x600 with 1 Axes>"
      ]
     },
     "metadata": {},
     "output_type": "display_data"
    }
   ],
   "source": [
    "import matplotlib.pyplot as plt\n",
    "import numpy as np\n",
    "\n",
    "# Parity plot\n",
    "plt.figure(figsize=(6, 6))\n",
    "plt.scatter(initial_energy, final_energy, c='blue', alpha=0.7, label='Structures')\n",
    "\n",
    "# Add y = x parity line\n",
    "min_val = min(initial_energy.min(), final_energy.min())\n",
    "max_val = max(initial_energy.max(), final_energy.max())\n",
    "plt.plot([min_val, max_val], [min_val, max_val], 'r--', label='Parity Line (y = x)')\n",
    "\n",
    "# Axis labels and formatting\n",
    "plt.xlabel(\"Initial Energy (eV)\")\n",
    "plt.ylabel(\"Final Energy (eV)\")\n",
    "plt.title(\"Parity Plot: Initial vs Final Lattice Energy\")\n",
    "plt.legend()\n",
    "plt.grid(True)\n",
    "plt.tight_layout()\n",
    "plt.show()"
   ]
  }
 ],
 "metadata": {
  "kernelspec": {
   "display_name": "qubo_gulp",
   "language": "python",
   "name": "python3"
  },
  "language_info": {
   "codemirror_mode": {
    "name": "ipython",
    "version": 3
   },
   "file_extension": ".py",
   "mimetype": "text/x-python",
   "name": "python",
   "nbconvert_exporter": "python",
   "pygments_lexer": "ipython3",
   "version": "3.10.14"
  }
 },
 "nbformat": 4,
 "nbformat_minor": 2
}
