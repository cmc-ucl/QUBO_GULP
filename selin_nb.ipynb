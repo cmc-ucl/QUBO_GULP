{
 "cells": [
  {
   "cell_type": "markdown",
   "metadata": {},
   "source": [
    "# Selin's notebook\n",
    "\n",
    "In this notebook I add the functions that Selin needs to complete her MSc research."
   ]
  },
  {
   "cell_type": "code",
   "execution_count": 2,
   "metadata": {},
   "outputs": [],
   "source": [
    "from QG_functions import *\n",
    "\n",
    "import numpy as np\n",
    "import pandas as pd\n",
    "\n",
    "from pymatgen.core.structure import Structure\n",
    "from pymatgen.symmetry.analyzer import SpacegroupAnalyzer\n",
    "from pymatgen.io.ase import AseAtomsAdaptor\n",
    "from pymatgen.core.periodic_table import Element\n",
    "from pymatgen.io.cif import *\n",
    "\n",
    "from ase.visualize import view\n",
    "\n",
    "\n",
    "from pymatgen.io.ase import AseAtomsAdaptor\n",
    "import sys\n",
    "\n",
    "import re\n",
    "import shutil as sh\n",
    "import pickle\n",
    "from tqdm import tqdm\n",
    "\n",
    "\n",
    "import copy\n",
    "from sklearn.metrics import mean_squared_error \n",
    "\n",
    "#import dataframe_image as dfi\n",
    "\n",
    "from scipy import constants\n",
    "from scipy.spatial import KDTree, distance_matrix\n",
    "\n",
    "import matplotlib.pyplot as plt\n",
    "\n",
    "import itertools\n",
    "from itertools import chain\n",
    "\n",
    "from sklearn.linear_model import LinearRegression\n",
    "# from sklearn.metrics import mean_squared_error as mse\n",
    "\n",
    "\n",
    "k_b = constants.physical_constants['Boltzmann constant in eV/K'][0]\n",
    "# print(k_b)\n",
    "def vview(structure):\n",
    "    view(AseAtomsAdaptor().get_atoms(structure))\n",
    "\n",
    "np.seterr(divide='ignore')\n",
    "plt.style.use('tableau-colorblind10')\n",
    "\n",
    "import seaborn as sns\n",
    "import time"
   ]
  },
  {
   "cell_type": "markdown",
   "metadata": {},
   "source": [
    "## Read the initial structures from cif\n",
    "\n",
    "Task: familiarise yourself with the pymatgen Structure object (eg., caf2 and delithiated_structure_init). What are its functions and attributes? Type \"caf2.\" in a code cell to get a prompt of all possible ones. In particluar, check out how to:\n",
    "- list the atomic number and coordinates\n",
    "- generate the distance matrix\n",
    "- select the elements of the distance matrix that correspond to a certain atom type interaction (you will need to use np.where())\n",
    "\n",
    "Compare the fully lithaited and delithiated cells and volumes.\n"
   ]
  },
  {
   "cell_type": "code",
   "execution_count": 12,
   "metadata": {},
   "outputs": [],
   "source": [
    "caf2 = Structure.from_file('data/structures/CaF2.cif')\n",
    "vview(caf2)"
   ]
  },
  {
   "cell_type": "code",
   "execution_count": 13,
   "metadata": {},
   "outputs": [],
   "source": [
    "fully_lithiated_structure_init = Structure.from_file('data/fully_lithiated_tmp.cif')\n",
    "delithiated_structure_init = Structure.from_file('data/delithiated_tmp.cif')"
   ]
  },
  {
   "cell_type": "code",
   "execution_count": null,
   "metadata": {},
   "outputs": [],
   "source": [
    "n_sites = fully_lithiated_structure_init.num_sites\n",
    "fully_lithiated_structure_init.translate_sites(np.arange(n_sites),[1,1,1],to_unit_cell=True) #what is happening here?\n",
    "\n",
    "vview(delithiated_structure_init)"
   ]
  },
  {
   "cell_type": "markdown",
   "metadata": {},
   "source": [
    "## Read the structures from the database\n",
    "\n",
    "Understand how to read an entry from a database. What type of object is \"data\"? Try (type(data)). How do you acces information stored into data and within each entry stored into data? "
   ]
  },
  {
   "cell_type": "code",
   "execution_count": 19,
   "metadata": {},
   "outputs": [
    {
     "data": {
      "text/plain": [
       "{'initial': {'energy': -2947.30808963,\n",
       "  'energy_ip': 499.06909695,\n",
       "  'energy_long': -3446.37718658,\n",
       "  'energy_long_real': -2135.94536095,\n",
       "  'energy_long_imag': -1310.43182563,\n",
       "  'lattice_vectors': [[8.872874, 0.0, 0.0],\n",
       "   [0.0, 9.432501, 0.0],\n",
       "   [0.0, 0.0, 8.565761]],\n",
       "  'config': [['Tc', 'core', 0.620302, 0.243497, 0.083331],\n",
       "   ['Mn', 'core', 0.620302, 0.743492, 0.750012],\n",
       "   ['Mn', 'core', 0.1203, 0.506495, 0.416677],\n",
       "   ['Mn', 'core', 0.837392, 0.493495, 0.250004],\n",
       "   ['Mn', 'core', 0.620302, 0.743492, 0.083331],\n",
       "   ['Mn', 'core', 0.620302, 0.243497, 0.416677],\n",
       "   ['Mn', 'core', 0.337391, 0.756492, 0.916685],\n",
       "   ['Mn', 'core', 0.837392, 0.493495, 0.916685],\n",
       "   ['Mn', 'core', 0.837392, 0.993489, 0.916685],\n",
       "   ['Mn', 'core', 0.837392, 0.493495, 0.583339],\n",
       "   ['Mn', 'core', 0.1203, 0.0065, 0.416677],\n",
       "   ['Mn', 'core', 0.337391, 0.256497, 0.583339],\n",
       "   ['Mn', 'core', 0.337391, 0.756492, 0.583339],\n",
       "   ['Mn', 'core', 0.620302, 0.243497, 0.750012],\n",
       "   ['Mn', 'core', 0.837392, 0.993489, 0.583339],\n",
       "   ['Mn', 'core', 0.1203, 0.0065, 0.083331],\n",
       "   ['Mn', 'core', 0.337391, 0.256497, 0.250004],\n",
       "   ['Mn', 'core', 0.337391, 0.756492, 0.250004],\n",
       "   ['Mn', 'core', 0.1203, 0.506495, 0.750012],\n",
       "   ['Mn', 'core', 0.1203, 0.506495, 0.083331],\n",
       "   ['Mn', 'core', 0.1203, 0.0065, 0.750012],\n",
       "   ['Mn', 'core', 0.620302, 0.743492, 0.416677],\n",
       "   ['Mn', 'core', 0.837392, 0.993489, 0.250004],\n",
       "   ['Mn', 'core', 0.337391, 0.256497, 0.916685],\n",
       "   ['Li', 'core', 0.580422, 0.499995, 0.0],\n",
       "   ['O', 'core', 0.02537, 0.099949, 0.250004],\n",
       "   ['O', 'core', 0.432321, 0.349946, 0.083331],\n",
       "   ['O', 'core', 0.525372, 0.150048, 0.250004],\n",
       "   ['O', 'core', 0.932323, 0.400046, 0.083331],\n",
       "   ['O', 'core', 0.251791, 0.155948, 0.083331],\n",
       "   ['O', 'core', 0.205901, 0.405946, 0.250004],\n",
       "   ['O', 'core', 0.751792, 0.094049, 0.083331],\n",
       "   ['O', 'core', 0.705902, 0.344046, 0.250004],\n",
       "   ['O', 'core', 0.02537, 0.599944, 0.250004],\n",
       "   ['O', 'core', 0.432321, 0.849941, 0.083331],\n",
       "   ['O', 'core', 0.525372, 0.650043, 0.250004],\n",
       "   ['O', 'core', 0.932323, 0.90004, 0.083331],\n",
       "   ['O', 'core', 0.251791, 0.655943, 0.083331],\n",
       "   ['O', 'core', 0.205901, 0.90594, 0.250004],\n",
       "   ['O', 'core', 0.751792, 0.594044, 0.083331],\n",
       "   ['O', 'core', 0.705902, 0.844041, 0.250004],\n",
       "   ['O', 'core', 0.02537, 0.099949, 0.583339],\n",
       "   ['O', 'core', 0.432321, 0.349946, 0.416677],\n",
       "   ['O', 'core', 0.525372, 0.150048, 0.583339],\n",
       "   ['O', 'core', 0.932323, 0.400046, 0.416677],\n",
       "   ['O', 'core', 0.251791, 0.155948, 0.416677],\n",
       "   ['O', 'core', 0.205901, 0.405946, 0.583339],\n",
       "   ['O', 'core', 0.751792, 0.094049, 0.416677],\n",
       "   ['O', 'core', 0.705902, 0.344046, 0.583339],\n",
       "   ['O', 'core', 0.02537, 0.599944, 0.583339],\n",
       "   ['O', 'core', 0.432321, 0.849941, 0.416677],\n",
       "   ['O', 'core', 0.525372, 0.650043, 0.583339],\n",
       "   ['O', 'core', 0.932323, 0.90004, 0.416677],\n",
       "   ['O', 'core', 0.251791, 0.655943, 0.416677],\n",
       "   ['O', 'core', 0.205901, 0.90594, 0.583339],\n",
       "   ['O', 'core', 0.751792, 0.594044, 0.416677],\n",
       "   ['O', 'core', 0.705902, 0.844041, 0.583339],\n",
       "   ['O', 'core', 0.02537, 0.099949, 0.916685],\n",
       "   ['O', 'core', 0.432321, 0.349946, 0.750012],\n",
       "   ['O', 'core', 0.525372, 0.150048, 0.916685],\n",
       "   ['O', 'core', 0.932323, 0.400046, 0.750012],\n",
       "   ['O', 'core', 0.251791, 0.155948, 0.750012],\n",
       "   ['O', 'core', 0.205901, 0.405946, 0.916685],\n",
       "   ['O', 'core', 0.751792, 0.094049, 0.750012],\n",
       "   ['O', 'core', 0.705902, 0.344046, 0.916685],\n",
       "   ['O', 'core', 0.02537, 0.599944, 0.916685],\n",
       "   ['O', 'core', 0.432321, 0.849941, 0.750012],\n",
       "   ['O', 'core', 0.525372, 0.650043, 0.916685],\n",
       "   ['O', 'core', 0.932323, 0.90004, 0.750012],\n",
       "   ['O', 'core', 0.251791, 0.655943, 0.750012],\n",
       "   ['O', 'core', 0.205901, 0.90594, 0.916685],\n",
       "   ['O', 'core', 0.751792, 0.594044, 0.750012],\n",
       "   ['O', 'core', 0.705902, 0.844041, 0.916685]]},\n",
       " 'final': {'energy': -3008.70846627,\n",
       "  'energy_ip': 620.01700427,\n",
       "  'energy_long': -3628.72547055,\n",
       "  'energy_long_real': -2317.6475333,\n",
       "  'energy_long_imag': -1311.07793725,\n",
       "  'lattice_vectors': [[8.872874, 0.0, 0.0],\n",
       "   [0.0, 9.432501, 0.0],\n",
       "   [0.0, 0.0, 8.565761]],\n",
       "  'config': [['Tc', 'core', 0.633158, 0.237509, 0.084442],\n",
       "   ['Mn', 'core', 0.624416, 0.748368, 0.750392],\n",
       "   ['Mn', 'core', 0.123321, 0.510176, 0.416932],\n",
       "   ['Mn', 'core', 0.834122, 0.499258, 0.25181],\n",
       "   ['Mn', 'core', 0.626366, 0.753995, 0.084506],\n",
       "   ['Mn', 'core', 0.622265, 0.251503, 0.416298],\n",
       "   ['Mn', 'core', 0.331896, 0.761081, 0.916466],\n",
       "   ['Mn', 'core', 0.835412, 0.500788, 0.915111],\n",
       "   ['Mn', 'core', 0.838188, 0.994119, 0.916986],\n",
       "   ['Mn', 'core', 0.834026, 0.498979, 0.58346],\n",
       "   ['Mn', 'core', 0.125953, 0.00919, 0.417473],\n",
       "   ['Mn', 'core', 0.333226, 0.261622, 0.582996],\n",
       "   ['Mn', 'core', 0.335223, 0.757951, 0.583561],\n",
       "   ['Mn', 'core', 0.622332, 0.250849, 0.750797],\n",
       "   ['Mn', 'core', 0.833637, 0.000607, 0.583286],\n",
       "   ['Mn', 'core', 0.125872, 0.006596, 0.08393],\n",
       "   ['Mn', 'core', 0.333465, 0.261834, 0.249509],\n",
       "   ['Mn', 'core', 0.335279, 0.758171, 0.250467],\n",
       "   ['Mn', 'core', 0.123813, 0.509289, 0.749681],\n",
       "   ['Mn', 'core', 0.123316, 0.505335, 0.083485],\n",
       "   ['Mn', 'core', 0.124093, 0.008355, 0.748796],\n",
       "   ['Mn', 'core', 0.624719, 0.748732, 0.417619],\n",
       "   ['Mn', 'core', 0.838798, 0.994196, 0.250491],\n",
       "   ['Mn', 'core', 0.33025, 0.25361, 0.91547],\n",
       "   ['Li', 'core', 0.484283, 0.496676, 0.998887],\n",
       "   ['O', 'core', 0.033011, 0.062219, 0.250155],\n",
       "   ['O', 'core', 0.403271, 0.33722, 0.078571],\n",
       "   ['O', 'core', 0.519588, 0.19375, 0.256638],\n",
       "   ['O', 'core', 0.9245, 0.442018, 0.082994],\n",
       "   ['O', 'core', 0.251787, 0.157274, 0.082542],\n",
       "   ['O', 'core', 0.202806, 0.411234, 0.251984],\n",
       "   ['O', 'core', 0.762025, 0.07871, 0.08333],\n",
       "   ['O', 'core', 0.710892, 0.353927, 0.267861],\n",
       "   ['O', 'core', 0.030733, 0.565754, 0.248099],\n",
       "   ['O', 'core', 0.428421, 0.814406, 0.081621],\n",
       "   ['O', 'core', 0.531443, 0.692789, 0.247944],\n",
       "   ['O', 'core', 0.934489, 0.934445, 0.083137],\n",
       "   ['O', 'core', 0.256961, 0.656629, 0.081328],\n",
       "   ['O', 'core', 0.209324, 0.908295, 0.249716],\n",
       "   ['O', 'core', 0.746897, 0.596888, 0.082207],\n",
       "   ['O', 'core', 0.708531, 0.845298, 0.250693],\n",
       "   ['O', 'core', 0.031262, 0.064411, 0.5833],\n",
       "   ['O', 'core', 0.423696, 0.320472, 0.417653],\n",
       "   ['O', 'core', 0.529435, 0.196179, 0.584],\n",
       "   ['O', 'core', 0.929989, 0.446424, 0.418217],\n",
       "   ['O', 'core', 0.249823, 0.161129, 0.417897],\n",
       "   ['O', 'core', 0.205852, 0.412317, 0.583677],\n",
       "   ['O', 'core', 0.751204, 0.095909, 0.416059],\n",
       "   ['O', 'core', 0.707032, 0.348117, 0.584425],\n",
       "   ['O', 'core', 0.032305, 0.567848, 0.583909],\n",
       "   ['O', 'core', 0.428823, 0.813092, 0.416739],\n",
       "   ['O', 'core', 0.530822, 0.692976, 0.584331],\n",
       "   ['O', 'core', 0.929063, 0.942216, 0.418177],\n",
       "   ['O', 'core', 0.252218, 0.661136, 0.416141],\n",
       "   ['O', 'core', 0.209231, 0.909776, 0.58429],\n",
       "   ['O', 'core', 0.751705, 0.600085, 0.418177],\n",
       "   ['O', 'core', 0.706077, 0.848259, 0.584225],\n",
       "   ['O', 'core', 0.033137, 0.062839, 0.916818],\n",
       "   ['O', 'core', 0.422432, 0.320599, 0.751275],\n",
       "   ['O', 'core', 0.520217, 0.191376, 0.909551],\n",
       "   ['O', 'core', 0.929611, 0.445564, 0.749217],\n",
       "   ['O', 'core', 0.249578, 0.159217, 0.748815],\n",
       "   ['O', 'core', 0.203939, 0.410913, 0.914022],\n",
       "   ['O', 'core', 0.751783, 0.096821, 0.752272],\n",
       "   ['O', 'core', 0.70449, 0.359471, 0.900526],\n",
       "   ['O', 'core', 0.031298, 0.565677, 0.918163],\n",
       "   ['O', 'core', 0.42978, 0.812192, 0.752763],\n",
       "   ['O', 'core', 0.530232, 0.681957, 0.921056],\n",
       "   ['O', 'core', 0.928062, 0.94197, 0.74925],\n",
       "   ['O', 'core', 0.252719, 0.661366, 0.751644],\n",
       "   ['O', 'core', 0.208373, 0.909635, 0.916061],\n",
       "   ['O', 'core', 0.751595, 0.600418, 0.74982],\n",
       "   ['O', 'core', 0.705902, 0.844041, 0.916685]]}}"
      ]
     },
     "execution_count": 19,
     "metadata": {},
     "output_type": "execute_result"
    }
   ],
   "source": [
    "with open('data/database/config_size_1.pkl', 'rb') as file:\n",
    "    data = pickle.load(file)\n",
    "\n",
    "db_entry_example = data[list(data.keys())[0]]\n",
    "# Print the loaded data to verify\n",
    "data[list(data.keys())[0]]"
   ]
  },
  {
   "cell_type": "markdown",
   "metadata": {},
   "source": [
    "### Read a database entry into a pymatgen object\n",
    "\n",
    "Print the distance between the Li and Tc atom (Tc is used instead of Mn3+)"
   ]
  },
  {
   "cell_type": "code",
   "execution_count": 20,
   "metadata": {},
   "outputs": [
    {
     "name": "stderr",
     "output_type": "stream",
     "text": [
      "2025-04-17 08:58:46.637 python[13148:29377314] +[IMKClient subclass]: chose IMKClient_Modern\n",
      "2025-04-17 08:58:46.637 python[13148:29377314] +[IMKInputSession subclass]: chose IMKInputSession_Modern\n"
     ]
    }
   ],
   "source": [
    "structure_example = db_to_structure(data[list(data.keys())[0]])\n",
    "vview(structure_example)"
   ]
  },
  {
   "cell_type": "code",
   "execution_count": null,
   "metadata": {},
   "outputs": [],
   "source": []
  },
  {
   "cell_type": "markdown",
   "metadata": {},
   "source": [
    "## Analyse Mn optimised positions\n",
    "\n",
    "Here we want to see how much the Mn atoms move from their initial positions. Check what the code below is doing. What metric can we calculate on mn_coords_all to see what is the average displacement? What final coordinates for Mn should we use? Do these differ from low concentrations to high concentrations?"
   ]
  },
  {
   "cell_type": "code",
   "execution_count": 28,
   "metadata": {},
   "outputs": [
    {
     "name": "stderr",
     "output_type": "stream",
     "text": [
      "Computing Mn positions: 100%|██████████| 24/24 [00:02<00:00, 11.00it/s]\n"
     ]
    }
   ],
   "source": [
    "mn_coords_all = []\n",
    "num_samples = 100 #MAKE RANDOM\n",
    "\n",
    "for i in tqdm(range(1,25), desc=\"Computing Mn positions\"):\n",
    "    with open(f'data/database/config_size_{i}.pkl', 'rb') as file:\n",
    "        data = pickle.load(file)\n",
    "    samples = np.random.choice(len(data),num_samples)\n",
    "\n",
    "    structure_n = np.array(list(data.keys()))[samples]\n",
    "    mn_coords_all = []\n",
    "    mn_coords_diff_all = []\n",
    "    for j in structure_n:\n",
    "        coords_tmp = np.array(data[j]['initial']['config'])\n",
    "        mn_coords_init = np.array(coords_tmp[0:24][:,2:]) \n",
    "        mn_coords_init = np.array(mn_coords_init,dtype='float')\n",
    "        \n",
    "        ordering = np.lexsort(mn_coords_init.T)\n",
    "        mn_coords_init_ordered = mn_coords_init[ordering]\n",
    "\n",
    "        coords_tmp = np.array(data[j]['final']['config'])#[-48:])[:,2:]\n",
    "        mn_coords = np.array(coords_tmp[0:24][:,2:])\n",
    "\n",
    "        mn_coords = np.array(mn_coords,dtype='float')\n",
    "        mn_coords_ordered = np.array(mn_coords,dtype='float')[ordering]\n",
    "        \n",
    "        mn_coords_diff = mn_coords_ordered - mn_coords_init\n",
    "\n",
    "        mn_coords_all.append(mn_coords_ordered.tolist())\n",
    "        mn_coords_diff_all.append(mn_coords_diff.tolist())\n",
    "        \n",
    "\n",
    "    mn_coords_all = np.array(mn_coords_all)\n",
    "    mn_coords_diff_all = np.array(mn_coords_diff_all)"
   ]
  },
  {
   "cell_type": "markdown",
   "metadata": {},
   "source": [
    "## Analyse O optimised positions\n",
    "Write the code to do the same analysis as Mn."
   ]
  },
  {
   "cell_type": "markdown",
   "metadata": {},
   "source": [
    "## Build the Li position grid\n",
    "Coming soon"
   ]
  }
 ],
 "metadata": {
  "kernelspec": {
   "display_name": "qubo_gulp",
   "language": "python",
   "name": "python3"
  },
  "language_info": {
   "codemirror_mode": {
    "name": "ipython",
    "version": 3
   },
   "file_extension": ".py",
   "mimetype": "text/x-python",
   "name": "python",
   "nbconvert_exporter": "python",
   "pygments_lexer": "ipython3",
   "version": "3.10.14"
  }
 },
 "nbformat": 4,
 "nbformat_minor": 2
}
