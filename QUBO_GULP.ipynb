{
 "cells": [
  {
   "cell_type": "markdown",
   "id": "535e1559",
   "metadata": {},
   "source": [
    "# QUBO models from GULP"
   ]
  },
  {
   "cell_type": "markdown",
   "id": "39c406c1",
   "metadata": {},
   "source": [
    "- [Read the structures](#structures)\n",
    "- [Build the QUBO matrix](#build_qubo)\n",
    "    - [Ewald](#ewald)\n",
    "    - [Buckingham](#buckingham)\n",
    "    "
   ]
  },
  {
   "cell_type": "code",
   "execution_count": 1,
   "id": "13ca0e16",
   "metadata": {},
   "outputs": [],
   "source": [
    "import numpy as np\n",
    "import pandas as pd\n",
    "\n",
    "from pymatgen.core.structure import Structure\n",
    "from pymatgen.symmetry.analyzer import SpacegroupAnalyzer\n",
    "from pymatgen.io.ase import AseAtomsAdaptor\n",
    "from pymatgen.core.periodic_table import Element\n",
    "from pymatgen.io.cif import *\n",
    "\n",
    "from ase.visualize import view\n",
    "\n",
    "\n",
    "from pymatgen.io.ase import AseAtomsAdaptor\n",
    "import sys\n",
    "\n",
    "import re\n",
    "import shutil as sh\n",
    "\n",
    "\n",
    "import copy\n",
    "from sklearn.metrics import mean_squared_error \n",
    "\n",
    "#import dataframe_image as dfi\n",
    "\n",
    "from scipy import constants\n",
    "\n",
    "import matplotlib.pyplot as plt\n",
    "\n",
    "import itertools\n",
    "from itertools import chain\n",
    "\n",
    "from sklearn.linear_model import LinearRegression\n",
    "from sklearn.metrics import mean_squared_error as mse\n",
    "\n",
    "\n",
    "k_b = constants.physical_constants['Boltzmann constant in eV/K'][0]\n",
    "# print(k_b)\n",
    "def vview(structure):\n",
    "    view(AseAtomsAdaptor().get_atoms(structure))\n",
    "\n",
    "np.seterr(divide='ignore')\n",
    "plt.style.use('tableau-colorblind10')\n",
    "\n",
    "import seaborn as sns"
   ]
  },
  {
   "cell_type": "markdown",
   "id": "9767979b",
   "metadata": {},
   "source": [
    "# <a id='structures'>Read the structures</a>"
   ]
  },
  {
   "cell_type": "markdown",
   "id": "35369d39",
   "metadata": {},
   "source": [
    "# <a id='build_qubo'>Build the QUBO matrix</a>"
   ]
  },
  {
   "cell_type": "markdown",
   "id": "39df0e05",
   "metadata": {},
   "source": [
    "# <a id='ewald'>Ewald</a>"
   ]
  },
  {
   "cell_type": "markdown",
   "id": "56241419",
   "metadata": {},
   "source": [
    "# <a id='buckingham'>Buckingham</a>"
   ]
  }
 ],
 "metadata": {
  "kernelspec": {
   "display_name": "Python 3 (ipykernel)",
   "language": "python",
   "name": "python3"
  },
  "language_info": {
   "codemirror_mode": {
    "name": "ipython",
    "version": 3
   },
   "file_extension": ".py",
   "mimetype": "text/x-python",
   "name": "python",
   "nbconvert_exporter": "python",
   "pygments_lexer": "ipython3",
   "version": "3.9.7"
  }
 },
 "nbformat": 4,
 "nbformat_minor": 5
}
