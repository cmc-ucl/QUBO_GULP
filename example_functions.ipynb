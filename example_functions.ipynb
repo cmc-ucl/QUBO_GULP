{
 "cells": [
  {
   "cell_type": "markdown",
   "metadata": {},
   "source": [
    "# Example functions\n",
    "\n",
    "This notebook shows how to use the functions to build QUBO models for disordered materials."
   ]
  },
  {
   "cell_type": "code",
   "execution_count": 106,
   "metadata": {},
   "outputs": [],
   "source": [
    "from QG_functions import *\n",
    "\n",
    "import numpy as np\n",
    "import pandas as pd\n",
    "\n",
    "from pymatgen.core.structure import Structure\n",
    "from pymatgen.symmetry.analyzer import SpacegroupAnalyzer\n",
    "from pymatgen.io.ase import AseAtomsAdaptor\n",
    "from pymatgen.core.periodic_table import Element\n",
    "from pymatgen.io.cif import *\n",
    "\n",
    "from ase.visualize import view\n",
    "\n",
    "\n",
    "from pymatgen.io.ase import AseAtomsAdaptor\n",
    "import sys\n",
    "\n",
    "import re\n",
    "import shutil as sh\n",
    "import pickle\n",
    "from tqdm import tqdm\n",
    "\n",
    "\n",
    "import copy\n",
    "from sklearn.metrics import mean_squared_error \n",
    "\n",
    "#import dataframe_image as dfi\n",
    "\n",
    "from scipy import constants\n",
    "from scipy.spatial import KDTree, distance_matrix\n",
    "\n",
    "import matplotlib.pyplot as plt\n",
    "\n",
    "import itertools\n",
    "from itertools import chain\n",
    "\n",
    "from sklearn.linear_model import LinearRegression\n",
    "# from sklearn.metrics import mean_squared_error as mse\n",
    "\n",
    "\n",
    "k_b = constants.physical_constants['Boltzmann constant in eV/K'][0]\n",
    "# print(k_b)\n",
    "def vview(structure):\n",
    "    view(AseAtomsAdaptor().get_atoms(structure))\n",
    "\n",
    "np.seterr(divide='ignore')\n",
    "plt.style.use('tableau-colorblind10')\n",
    "\n",
    "import seaborn as sns\n",
    "import time"
   ]
  },
  {
   "cell_type": "markdown",
   "metadata": {},
   "source": [
    "## Discrete QUBO matrix"
   ]
  },
  {
   "cell_type": "code",
   "execution_count": 107,
   "metadata": {},
   "outputs": [],
   "source": [
    "CaF2 = Structure.from_file('data/structures/CaF2.cif')\n",
    "CaF2_charges = []\n",
    "for site in CaF2:\n",
    "    CaF2_charges.append(site.as_dict()['species'][0]['oxidation_state'])\n",
    "CaF2 = Structure(CaF2.lattice,CaF2.atomic_numbers,CaF2.frac_coords) # To avoid having the species called Ca0, Ca1 etc..."
   ]
  },
  {
   "cell_type": "code",
   "execution_count": 108,
   "metadata": {},
   "outputs": [
    {
     "data": {
      "text/plain": [
       "Structure Summary\n",
       "Lattice\n",
       "    abc : 5.51605194 5.51605194 5.51605194\n",
       " angles : 90.0 90.0 90.0\n",
       " volume : 167.83596915985262\n",
       "      A : np.float64(5.51605194) np.float64(0.0) np.float64(3.377607676125774e-16)\n",
       "      B : np.float64(-3.377607676125774e-16) np.float64(5.51605194) np.float64(3.377607676125774e-16)\n",
       "      C : np.float64(0.0) np.float64(0.0) np.float64(5.51605194)\n",
       "    pbc : True True True\n",
       "PeriodicSite: Ca (0.0, 0.0, 0.0) [0.0, 0.0, 0.0]\n",
       "PeriodicSite: Ca (-1.689e-16, 2.758, 2.758) [0.0, 0.5, 0.5]\n",
       "PeriodicSite: Ca (2.758, 0.0, 2.758) [0.5, 0.0, 0.5]\n",
       "PeriodicSite: Ca (2.758, 2.758, 3.378e-16) [0.5, 0.5, 0.0]\n",
       "PeriodicSite: F (1.379, 4.137, 1.379) [0.25, 0.75, 0.25]\n",
       "PeriodicSite: F (1.379, 4.137, 4.137) [0.25, 0.75, 0.75]\n",
       "PeriodicSite: F (1.379, 1.379, 4.137) [0.25, 0.25, 0.75]\n",
       "PeriodicSite: F (1.379, 1.379, 1.379) [0.25, 0.25, 0.25]\n",
       "PeriodicSite: F (4.137, 4.137, 4.137) [0.75, 0.75, 0.75]\n",
       "PeriodicSite: F (4.137, 4.137, 1.379) [0.75, 0.75, 0.25]\n",
       "PeriodicSite: F (4.137, 1.379, 1.379) [0.75, 0.25, 0.25]\n",
       "PeriodicSite: F (4.137, 1.379, 4.137) [0.75, 0.25, 0.75]"
      ]
     },
     "execution_count": 108,
     "metadata": {},
     "output_type": "execute_result"
    }
   ],
   "source": [
    "CaF2"
   ]
  },
  {
   "cell_type": "code",
   "execution_count": null,
   "metadata": {},
   "outputs": [],
   "source": []
  },
  {
   "cell_type": "markdown",
   "metadata": {},
   "source": [
    "### Build the initial Ewald matrix for one of the end members\n",
    "This is a NxN matrix. All charges are 1. I only need to calculate this once because the values are the same since it is a fixed lattice."
   ]
  },
  {
   "cell_type": "code",
   "execution_count": 109,
   "metadata": {},
   "outputs": [
    {
     "name": "stderr",
     "output_type": "stream",
     "text": [
      "Computing real space: 100%|██████████| 12/12 [00:00<00:00, 12.05it/s]\n"
     ]
    }
   ],
   "source": [
    "ewald_matrix = compute_ewald_matrix(CaF2,triu=True)"
   ]
  },
  {
   "cell_type": "markdown",
   "metadata": {},
   "source": [
    "### Build the discrete Ewald matrix with charges\n",
    "This is a \"larger than\" NxN matrix, the actual size depends on how many sites have fractional occupancy. The charges are the ones from the real material. "
   ]
  },
  {
   "cell_type": "code",
   "execution_count": 110,
   "metadata": {},
   "outputs": [],
   "source": [
    "structure = CaF2\n",
    "sites_frac_occupancy = [[0,1,2,3]]\n",
    "charges = {\n",
    "    20: [2,1],\n",
    "    9: [-1]\n",
    "}\n",
    "\n",
    "ewald_discrete, expanded_charges, expanded_matrix = compute_discrete_ewald_matrix(structure, charges, ewald_matrix=ewald_matrix)\n"
   ]
  },
  {
   "cell_type": "code",
   "execution_count": 111,
   "metadata": {},
   "outputs": [
    {
     "data": {
      "image/png": "[encoded data removed]",
      "text/plain": [
       "<Figure size 600x600 with 2 Axes>"
      ]
     },
     "metadata": {},
     "output_type": "display_data"
    }
   ],
   "source": [
    "plot_matrix_heatmap(ewald_discrete)"
   ]
  },
  {
   "cell_type": "markdown",
   "metadata": {},
   "source": [
    "### Build the discrete Buckingham matrix\n",
    "This is a \"larger than\" NxN matrix, the actual size depends on how many sites have fractional occupancy. "
   ]
  },
  {
   "cell_type": "code",
   "execution_count": 112,
   "metadata": {},
   "outputs": [
    {
     "name": "stderr",
     "output_type": "stream",
     "text": [
      "Buckingham matrix: 100%|██████████| 12/12 [00:00<00:00, 21.29it/s]\n"
     ]
    }
   ],
   "source": [
    "species_dict = {'Ca': ['Ca', 'Mg']}  # Ca sites can be either Ca (20) or Sc (21)\n",
    "buckingham_dict = {'Mg-F':    [821.6,    0.3242 ,  0.0] ,    \n",
    "'Ca-F':    [1293.6,   0.2990,   0.0] ,    \n",
    "'F-F':    [22764.0,  0.1490,  27.88]   }\n",
    "buckingham_matrix, species_vector = compute_buckingham_matrix_discrete(\n",
    "    structure, species_dict, buckingham_dict, R_max=25.0\n",
    ")"
   ]
  },
  {
   "cell_type": "code",
   "execution_count": 113,
   "metadata": {},
   "outputs": [
    {
     "data": {
      "image/png": "[encoded data removed]",
      "text/plain": [
       "<Figure size 600x600 with 2 Axes>"
      ]
     },
     "metadata": {},
     "output_type": "display_data"
    }
   ],
   "source": [
    "plot_matrix_heatmap(buckingham_matrix)"
   ]
  },
  {
   "cell_type": "markdown",
   "metadata": {},
   "source": [
    "## Reduce the matrix size: Domain Wall Encoding"
   ]
  },
  {
   "cell_type": "code",
   "execution_count": null,
   "metadata": {},
   "outputs": [
    {
     "name": "stdout",
     "output_type": "stream",
     "text": [
      "['Ca', 'Mg', 'Ca', 'Mg', 'Ca', 'Mg', 'Ca', 'Mg', 'F', 'F', 'F', 'F', 'F', 'F', 'F', 'F']\n",
      "The line below: I think I need the CaMg interaction from all\n",
      "The line below: I think I need the CaMg interaction from all\n",
      "The line below: I think I need the CaMg interaction from all\n",
      "The line below: I think I need the CaMg interaction from all\n",
      "The line below: I think I need the CaMg interaction from all\n",
      "The line below: I think I need the CaMg interaction from all\n"
     ]
    },
    {
     "data": {
      "text/plain": [
       "array([[6.34774185, 0.3804313 , 0.3804313 , 0.3804313 ],\n",
       "       [0.        , 7.1085992 , 0.3804313 , 0.3804313 ],\n",
       "       [0.        , 0.        , 7.86946181, 0.3804313 ],\n",
       "       [0.        , 0.        , 0.        , 8.63032441]])"
      ]
     },
     "execution_count": 163,
     "metadata": {},
     "output_type": "execute_result"
    }
   ],
   "source": [
    "species_vector\n",
    "fixed_species = [9]\n",
    "frac_occupancy_species = {20:[20,12]} #Ca is the zero refrence\n",
    "\n",
    "def build_qubo_discrete_from_Ewald_IP(ewald_discrete,buckingham_matrix):\n",
    "    Q = ewald_discrete + buckingham_matrix\n",
    "\n",
    "    return Q\n",
    "\n",
    "def reduce_qubo_discrete(Q_discrete,structure,species_vector,frac_occupancy_species,fixed_species):\n",
    "    \n",
    "    print(species_vector)\n",
    "    an_vector_discrete = np.array([Element(sym).Z for sym in species_vector])\n",
    "    an_vector = np.array(structure.atomic_numbers)\n",
    "    num_sites = structure.num_sites\n",
    "    \n",
    "    Q = np.zeros((num_sites,num_sites))\n",
    "    zero_energy = 0\n",
    "    pos_fixed = []\n",
    "    for fs in fixed_species:\n",
    "        pos_fixed.extend(np.where(an_vector_discrete == fs)[0])\n",
    "    pos_fixed = np.array(pos_fixed)\n",
    "    \n",
    "    zero_energy = 0\n",
    "    \n",
    "    for species1 in frac_occupancy_species.keys():\n",
    "        pos_discrete = np.where(an_vector_discrete == species1)[0]\n",
    "        pos = np.where(an_vector == species1)[0]\n",
    "        \n",
    "        for p1,i in enumerate(pos):\n",
    "\n",
    "            Q[i,i] += Q_discrete[pos_discrete[i]+1,pos_discrete[i]+1] - Q_discrete[pos_discrete[i],pos_discrete[i]] #E_Ca - E_Mg\n",
    "            # print(pos_discrete[i]+1,pos_discrete[i],Q_discrete[pos_discrete[i]+1,pos_discrete[i]+1] - Q_discrete[pos_discrete[i],pos_discrete[i]])\n",
    "            zero_energy += Q_discrete[pos_discrete[i],pos_discrete[i]]\n",
    "            \n",
    "            for p2,j in enumerate(pos):\n",
    "                if j>i:\n",
    "                    print('The line below: I think I need the CaMg interaction from all')\n",
    "                    Q[i,i] += Q_discrete[pos_discrete[i],pos_discrete[j]+1] #E_CaMg to the diagonal\n",
    "\n",
    "                    Q[i,j] += Q_discrete[pos_discrete[i]+1,pos_discrete[j]+1] - Q_discrete[pos_discrete[i],pos_discrete[j]+1] #E_MgMg - E_CaMg\n",
    "                    zero_energy += Q_discrete[pos_discrete[i],pos_discrete[j]] #E_CaCa\n",
    "                    # print(i,j,'   ',pos_discrete[i],pos_discrete[j]+1,Q_discrete[pos_discrete[i],pos_discrete[j]+1])\n",
    "                    # print(i,j,'   ',pos_discrete[i],pos_discrete[j]+1,Q_discrete[pos_discrete[i]+1,pos_discrete[j]+1] - Q_discrete[pos_discrete[i],pos_discrete[j]+1])\n",
    "            for p3,k in enumerate(pos_fixed):\n",
    "                # print(i,pos_discrete[i]+1,k,'   ', pos_discrete[i]+1)\n",
    "\n",
    "                Q[i,i] += Q_discrete[pos_discrete[i]+1,k] #E_MgF\n",
    "                zero_energy += Q_discrete[pos_discrete[i],k] #E_CaF\n",
    "    \n",
    "                \n",
    "\n",
    "    return Q\n",
    "Q = build_qubo_discrete_from_Ewald_IP(ewald_discrete,buckingham_matrix)\n",
    "reduce_qubo_discrete(Q,structure,species_vector,frac_occupancy_species,fixed_species)[0:4,0:4]"
   ]
  },
  {
   "cell_type": "code",
   "execution_count": null,
   "metadata": {},
   "outputs": [
    {
     "name": "stdout",
     "output_type": "stream",
     "text": [
      "['Ca', 'Mg', 'Ca', 'Mg', 'Ca', 'Mg', 'Ca', 'Mg', 'F', 'F', 'F', 'F', 'F', 'F', 'F', 'F']\n"
     ]
    },
    {
     "data": {
      "text/plain": [
       "array([[9.39977993, 0.        , 0.        , 0.        , 0.        ,\n",
       "        0.        , 0.        , 0.        , 0.        , 0.        ,\n",
       "        0.        , 0.        ],\n",
       "       [0.        , 0.        , 0.        , 0.        , 0.        ,\n",
       "        0.        , 0.        , 0.        , 0.        , 0.        ,\n",
       "        0.        , 0.        ],\n",
       "       [0.        , 0.        , 9.39977993, 0.        , 0.        ,\n",
       "        0.        , 0.        , 0.        , 0.        , 0.        ,\n",
       "        0.        , 0.        ],\n",
       "       [0.        , 0.        , 0.        , 0.        , 0.        ,\n",
       "        0.        , 0.        , 0.        , 0.        , 0.        ,\n",
       "        0.        , 0.        ],\n",
       "       [0.        , 0.        , 0.        , 0.        , 9.39977993,\n",
       "        0.        , 0.        , 0.        , 0.        , 0.        ,\n",
       "        0.        , 0.        ],\n",
       "       [0.        , 0.        , 0.        , 0.        , 0.        ,\n",
       "        0.        , 0.        , 0.        , 0.        , 0.        ,\n",
       "        0.        , 0.        ],\n",
       "       [0.        , 0.        , 0.        , 0.        , 0.        ,\n",
       "        0.        , 9.39977993, 0.        , 0.        , 0.        ,\n",
       "        0.        , 0.        ],\n",
       "       [0.        , 0.        , 0.        , 0.        , 0.        ,\n",
       "        0.        , 0.        , 0.        , 0.        , 0.        ,\n",
       "        0.        , 0.        ],\n",
       "       [0.        , 0.        , 0.        , 0.        , 0.        ,\n",
       "        0.        , 0.        , 0.        , 0.        , 0.        ,\n",
       "        0.        , 0.        ],\n",
       "       [0.        , 0.        , 0.        , 0.        , 0.        ,\n",
       "        0.        , 0.        , 0.        , 0.        , 0.        ,\n",
       "        0.        , 0.        ],\n",
       "       [0.        , 0.        , 0.        , 0.        , 0.        ,\n",
       "        0.        , 0.        , 0.        , 0.        , 0.        ,\n",
       "        0.        , 0.        ],\n",
       "       [0.        , 0.        , 0.        , 0.        , 0.        ,\n",
       "        0.        , 0.        , 0.        , 0.        , 0.        ,\n",
       "        0.        , 0.        ]])"
      ]
     },
     "metadata": {},
     "output_type": "display_data"
    }
   ],
   "source": [
    "species_vector\n",
    "fixed_species = ['F']\n",
    "frac_occupancy_species = {'Ca':['Ca','Mg']} #Ca is the zero refrence\n",
    "\n",
    "def build_qubo_discrete_from_Ewald_IP(ewald_discrete,buckingham_matrix):\n",
    "    Q = ewald_discrete + buckingham_matrix\n",
    "\n",
    "    return Q\n",
    "\n",
    "def reduce_qubo_discrete(Q_discrete,structure,species_vector,frac_occupancy_species,fixed_species):\n",
    "    \n",
    "    print(species_vector)\n",
    "    an_vector = np.array([Element(sym).Z for sym in species_vector])\n",
    "    num_sites = structure.num_sites\n",
    "    \n",
    "    Q = np.zeros((num_sites,num_sites))\n",
    "    zero_energy = 0\n",
    "    for species1 in frac_occupancy_species.keys():\n",
    "        for i,site1 in enumerate(species_vector):\n",
    "            if site1 == species1:\n",
    "                for j,site2 in enumerate(species_vector):\n",
    "                    if i == j:\n",
    "                        Q[i,i] = Q_discrete[i+1,i+1] - Q_discrete[i,i] #E_Ca - E_Mg\n",
    "                        zero_energy += Q_discrete[i,i]\n",
    "                    elif j > i:\n",
    "                        if site2 == species1:\n",
    "                            Q[i,j] = Q_discrete[i+1,i+1] - Q_discrete[i,i]\n",
    "\n",
    "                \n",
    "\n",
    "    return Q\n",
    "Q = build_qubo_discrete_from_Ewald_IP(ewald_discrete,buckingham_matrix)\n",
    "reduce_qubo_discrete(Q,structure,species_vector,frac_occupancy_species,fixed_species)"
   ]
  },
  {
   "cell_type": "code",
   "execution_count": 115,
   "metadata": {},
   "outputs": [],
   "source": [
    "an_vector = np.array([Element(sym).Z for sym in species_vector])"
   ]
  },
  {
   "cell_type": "code",
   "execution_count": 118,
   "metadata": {},
   "outputs": [
    {
     "data": {
      "text/plain": [
       "array([20, 12, 20, 12, 20, 12, 20, 12,  9,  9,  9,  9,  9,  9,  9,  9])"
      ]
     },
     "execution_count": 118,
     "metadata": {},
     "output_type": "execute_result"
    }
   ],
   "source": [
    "an_vector"
   ]
  },
  {
   "cell_type": "code",
   "execution_count": null,
   "metadata": {},
   "outputs": [],
   "source": []
  },
  {
   "cell_type": "code",
   "execution_count": null,
   "metadata": {},
   "outputs": [],
   "source": []
  },
  {
   "cell_type": "code",
   "execution_count": null,
   "metadata": {},
   "outputs": [],
   "source": []
  }
 ],
 "metadata": {
  "kernelspec": {
   "display_name": "qubo_gulp",
   "language": "python",
   "name": "python3"
  },
  "language_info": {
   "codemirror_mode": {
    "name": "ipython",
    "version": 3
   },
   "file_extension": ".py",
   "mimetype": "text/x-python",
   "name": "python",
   "nbconvert_exporter": "python",
   "pygments_lexer": "ipython3",
   "version": "3.10.14"
  }
 },
 "nbformat": 4,
 "nbformat_minor": 2
}
