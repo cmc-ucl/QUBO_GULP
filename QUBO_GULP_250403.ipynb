{
 "cells": [
  {
   "cell_type": "markdown",
   "id": "e1600152",
   "metadata": {},
   "source": [
    "# QUBO models from GULP"
   ]
  },
  {
   "cell_type": "markdown",
   "id": "a530bea3",
   "metadata": {},
   "source": [
    "- [Read the structures](#structures)\n",
    "- [Geometry analysis](#geom_analysis)\n",
    "    - [Li distribution](#li_distribution)\n",
    "    - [Mn distribution](#mn_distribution) small std\n",
    "    - [O distribution](#o_distribution) small std\n",
    "- [Build the QUBO model](#build_qubo_ml)\n",
    "- [Symmetry analysis](#symm_analysis)\n",
    "\n",
    "- [Build the QUBO matrix](#build_qubo_ip)\n",
    "    - [Ewald](#ewald)\n",
    "    - [Buckingham](#buckingham)\n",
    "- [Calculate the energy of GULP structures](#calc_E)\n",
    "- [Build the initial QUBO](#qubo)\n",
    "- [Experiments](#experiments)    \n",
    "- [Mgo/ZnO](#mgo_zno)"
   ]
  },
  {
   "cell_type": "markdown",
   "id": "0b257e39",
   "metadata": {},
   "source": [
    "###  CATHY'S PROJECT\n",
    "Things to fix\n",
    "- The QUBO matrix gives large mse\n",
    "\n",
    "Parameters to test:\n",
    "- Li distribution (For these find some metrics to analyse the model)\n",
    "    - use denser/less dense grid\n",
    "    - train on low concentration/high concentration separately. Then merge them in the same model.\n",
    "    - number of samples\n",
    "\n",
    "- Building the QUBO model:\n",
    "    - max_radius\n",
    "    - reg = LinearRegression(fit_intercept=False)\n",
    "\n",
    "- Mapping to hardware (plots and images from the D-Wave visualiser). For this you'll have to learn how to build a bqm from the QUBO matrix and use minor-embedding (https://docs.ocean.dwavesys.com/en/stable/concepts/embedding.html) and the EmbeddingComposite class (https://docs.ocean.dwavesys.com/projects/system/en/stable/reference/composites.html#embeddingcomposite):\n",
    "    - number of qubits and chain length vs Li grid size and number of QUBO elements (max_radius)\n",
    "\n",
    "If you find a reasonable model you can try to run it on the hardware\n",
    "\n",
    "Plots:\n",
    "- standard deviation of Mn and O positions\n",
    "\n",
    "\n",
    "### IP APPROACH\n",
    "- Use the Li coordinates from the mapping\n",
    "- Build the Ewald+IP matrix for the whole structure (including O)\n",
    "- Sum the Mn-O and Li-O terms into Mn and Li\n",
    "- How to take into account the changing lattice vectors? Build matrices depending on the concentration\n",
    "\n",
    "- Test if I can incluse NN only\n",
    "- Solve using SA + MC (python implementation or neal)\n",
    " \n",
    "\n",
    "\n",
    "### PAST IDEAS\n",
    "- for a shorter project, use fixed lattice and only consider Li positions (no Tc). A next step considers the Tc too, but at fixed lattice positions. Build a simple model with the Li atoms in the high-concentration (octa) and low-concentration sites (tetra). This would be useful for practicing building the energy model, but it would require running more GULP calculations on fixed lattice. \n",
    "- first get the distribution analysis and then build the energy model\n",
    "    - we will need to map the position of atoms in the geometry relaxed structures to positions in the QUBO model\n",
    "        - we could use a scaling in the linear regression (LR) that is proportional to how much an atom has moved from the QUBO position\n",
    "- for the energy model let's try both the manual IP method and the LR\n",
    "\n"
   ]
  },
  {
   "cell_type": "markdown",
   "id": "6c5e6f08",
   "metadata": {},
   "source": [
    "## GLOSSARY\n",
    "- coord_top (N_positions_final): these are the Li coordinates with the higher probability calculated by defining a grid and looking at random structures in the database. They are not symmetrised. They are given in fractional coordinates.\n",
    "- symmetrised_coords (N_positions_final x N_symmops): symmetrised coord_top. These are obtained by applying the symmetry operators of the delithiated structure to the coord_top. They are folded back into the cell (fractional coordinates).\n",
    "- averaged_symmetrised_coords: (depends on the threshold): we only keep the symmetrised_coords that are more than a \"threshold\" apart.\n",
    "\n",
    "- mn_sites_coords: Mn3+ sites coordinates taken from the initial delithiated structure\n",
    "\n",
    "- all_coordinates_final: these are all the coordinates (fractional) included in the final model for QUBO. It contains the Mn sites first and then the Li ones.\n",
    "\n",
    "- averaged_li_indices: these are the indices where the Li atoms are found in each structure. It refers to the list of averaged_symmetrised_coords. So [1] means that the Li atom is in position 1 of the averaged_symmetrised_coords\n",
    "\n",
    "- mn_indices: this tells us for each structure (one row in mn_indices) where the Mn3+ are.\n",
    "\n",
    "- binary_compositions: each row is the composition for one of the structures in the train set. The first 24 elements are the Mn (so a 1 means it's Mn3+) sites and the rest is Li (so 1 means there is a Li atom in that site). \n"
   ]
  },
  {
   "cell_type": "code",
   "execution_count": 1,
   "id": "2dac5887",
   "metadata": {},
   "outputs": [],
   "source": [
    "from QG_functions import *\n",
    "\n",
    "import numpy as np\n",
    "import pandas as pd\n",
    "\n",
    "from pymatgen.core.structure import Structure\n",
    "from pymatgen.symmetry.analyzer import SpacegroupAnalyzer\n",
    "from pymatgen.io.ase import AseAtomsAdaptor\n",
    "from pymatgen.core.periodic_table import Element\n",
    "from pymatgen.io.cif import *\n",
    "\n",
    "from ase.visualize import view\n",
    "\n",
    "\n",
    "from pymatgen.io.ase import AseAtomsAdaptor\n",
    "import sys\n",
    "\n",
    "import re\n",
    "import shutil as sh\n",
    "import pickle\n",
    "from tqdm import tqdm\n",
    "\n",
    "\n",
    "import copy\n",
    "from sklearn.metrics import mean_squared_error \n",
    "\n",
    "#import dataframe_image as dfi\n",
    "\n",
    "from scipy import constants\n",
    "from scipy.spatial import KDTree, distance_matrix\n",
    "\n",
    "import matplotlib.pyplot as plt\n",
    "\n",
    "import itertools\n",
    "from itertools import chain\n",
    "\n",
    "from sklearn.linear_model import LinearRegression\n",
    "# from sklearn.metrics import mean_squared_error as mse\n",
    "\n",
    "\n",
    "k_b = constants.physical_constants['Boltzmann constant in eV/K'][0]\n",
    "# print(k_b)\n",
    "def vview(structure):\n",
    "    view(AseAtomsAdaptor().get_atoms(structure))\n",
    "\n",
    "np.seterr(divide='ignore')\n",
    "plt.style.use('tableau-colorblind10')\n",
    "\n",
    "import seaborn as sns\n",
    "import time\n",
    "# from QG_functions import *"
   ]
  },
  {
   "cell_type": "markdown",
   "id": "2675ba76",
   "metadata": {},
   "source": [
    "### The cell below creates the smaller database (only use when needed)"
   ]
  },
  {
   "cell_type": "code",
   "execution_count": 2,
   "id": "304ff7f8",
   "metadata": {},
   "outputs": [],
   "source": [
    "# import numpy as np\n",
    "# import pickle\n",
    "# from tqdm import tqdm\n",
    "\n",
    "# num_samples = 400  # Select 500 structures\n",
    "# M = 20  # Grid definition (not used in this code)\n",
    "# N_positions_final = 100  # Not used here but kept for context\n",
    "\n",
    "# for i in tqdm(range(1, 25), desc=\"Selecting Structures\"):\n",
    "#     # Load the original pickle file\n",
    "#     with open(f'../QUBO_GULP_SAVE/data/database/config_size_{i}.pkl', 'rb') as file:\n",
    "#         data = pickle.load(file)  # `data` is a dictionary\n",
    "\n",
    "#     # Select 500 random structures\n",
    "#     sampled_keys = np.random.choice(list(data.keys()), num_samples, replace=False)\n",
    "#     sampled_data = {key: data[key] for key in sampled_keys}  # Keep only sampled structures\n",
    "\n",
    "#     # Save the sampled structures back to the pickle file\n",
    "#     with open(f'data/database/config_size_{i}.pkl', 'wb') as file:\n",
    "#         pickle.dump(sampled_data, file)\n",
    "\n",
    "# print(\"✅ Successfully saved 500 structures per file.\")\n"
   ]
  },
  {
   "cell_type": "markdown",
   "id": "1a0d65ba",
   "metadata": {},
   "source": [
    "# <a id='structures'>Read the structures</a>"
   ]
  },
  {
   "cell_type": "code",
   "execution_count": 184,
   "id": "59548cee",
   "metadata": {},
   "outputs": [],
   "source": [
    "fully_lithiated_structure_init = Structure.from_file('data/fully_lithiated_tmp.cif')\n",
    "delithiated_structure_init = Structure.from_file('data/delithiated_tmp.cif')"
   ]
  },
  {
   "cell_type": "code",
   "execution_count": 185,
   "id": "547a2a8b",
   "metadata": {
    "collapsed": true
   },
   "outputs": [],
   "source": [
    "n_sites = fully_lithiated_structure_init.num_sites\n",
    "fully_lithiated_structure_init.translate_sites(np.arange(n_sites),[1,1,1],to_unit_cell=True)\n",
    "\n",
    "vview(fully_lithiated_structure_init)"
   ]
  },
  {
   "cell_type": "code",
   "execution_count": 5,
   "id": "9e385f14",
   "metadata": {},
   "outputs": [],
   "source": [
    "# # I don't think we need these functions\n",
    "# def apply_periodic_boundary_conditions(coord):\n",
    "#     \"\"\"\n",
    "#     Apply periodic boundary conditions to bring fractional coordinates within [0, 1).\n",
    "#     \"\"\"\n",
    "#     return coord - np.floor(coord)\n",
    "\n",
    "# def distance_with_pbc(fixed_pos, atom_pos, lattice, tolerance):\n",
    "#     \"\"\"\n",
    "#     Compute the minimum distance between a fixed lattice position and an atom, \n",
    "#     accounting for periodic boundary conditions (PBC).\n",
    "    \n",
    "#     Parameters:\n",
    "#     fixed_pos (np.array): Fractional coordinates of the fixed lattice position.\n",
    "#     atom_pos (np.array): Fractional coordinates of the atom.\n",
    "#     lattice (np.array): Lattice vectors (3x3 matrix).\n",
    "#     tolerance (float): Tolerance to determine whether two points are close enough.\n",
    "    \n",
    "#     Returns:\n",
    "#     bool: True if the distance between fixed_pos and atom_pos is within the tolerance.\n",
    "#     \"\"\"\n",
    "#     # Shift atom position using periodic boundary conditions\n",
    "#     delta = apply_periodic_boundary_conditions(atom_pos - fixed_pos)\n",
    "    \n",
    "#     # Convert to Cartesian coordinates\n",
    "#     delta_cartesian = np.dot(delta, lattice)\n",
    "    \n",
    "#     # Compute distance in Cartesian coordinates\n",
    "#     distance = np.linalg.norm(delta_cartesian)\n",
    "    \n",
    "#     return distance < tolerance\n",
    "\n",
    "# def create_binary_vector(fixed_positions, atoms, lattice, tolerance=0.1):\n",
    "#     \"\"\"\n",
    "#     Create a binary vector indicating whether an atom is present near each fixed lattice position.\n",
    "    \n",
    "#     Parameters:\n",
    "#     fixed_positions (np.array): List of fixed lattice positions as fractional coordinates.\n",
    "#     atoms (np.array): List of atomic positions as fractional coordinates.\n",
    "#     lattice (np.array): Lattice vectors (3x3 matrix).\n",
    "#     tolerance (float): Distance threshold for determining a match (default 0.1).\n",
    "    \n",
    "#     Returns:\n",
    "#     binary_vector (np.array): A binary vector where 1 indicates an atom is near a fixed lattice position.\n",
    "#     \"\"\"\n",
    "#     num_fixed_positions = len(fixed_positions)\n",
    "#     binary_vector = np.zeros(num_fixed_positions, dtype=int)\n",
    "    \n",
    "#     for i, fixed_pos in enumerate(fixed_positions):\n",
    "#         for atom_pos in atoms:\n",
    "#             if distance_with_pbc(fixed_pos, atom_pos, lattice, tolerance):\n",
    "#                 binary_vector[i] = 1\n",
    "#                 break  # Once we find a match, we don't need to check other atoms for this fixed position\n",
    "    \n",
    "#     return binary_vector\n",
    "\n",
    "# # Example usage:\n",
    "# fixed_positions = np.array([[0.57385, 0.47843, 0.25002],  # Replace with full list\n",
    "#                             [0.89053, 0.22843, 0.41668],\n",
    "#                             [0.39053, 0.04394, 0.75002],\n",
    "#                             # Add all fixed positions\n",
    "#                             ])\n",
    "\n",
    "# # Example atom positions\n",
    "# atom_positions = np.array([[0.57385, 0.47843, 0.25002], \n",
    "#                            [0.891, 0.2285, 0.4167], \n",
    "#                            [0.390, 0.044, 0.750]])\n",
    "\n",
    "# # Lattice vectors (example)\n",
    "# lattice_vectors = np.array([[10, 0, 0], [0, 10, 0], [0, 0, 10]])\n",
    "\n",
    "# # Create binary vector\n",
    "# tolerance = 0.1  # Adjustable tolerance for distance comparison\n",
    "# binary_vector = create_binary_vector(fixed_positions, atom_positions, lattice_vectors, tolerance)\n",
    "\n",
    "# print(binary_vector)\n"
   ]
  },
  {
   "cell_type": "markdown",
   "id": "fed58f5d",
   "metadata": {},
   "source": [
    "## From database\n",
    "\n",
    "the data in data/database/config_size_n.pkl are the pkl files for all (?) the structures that Kyu optimised. \n",
    "\n",
    "they contain both the initial and final structure (pre and post geometry relaxation)\n",
    "\n",
    "data.keys() are int"
   ]
  },
  {
   "cell_type": "code",
   "execution_count": 6,
   "id": "c5120f3f",
   "metadata": {},
   "outputs": [
    {
     "data": {
      "text/plain": [
       "{'initial': {'energy': -2947.30808963,\n",
       "  'energy_ip': 499.06909695,\n",
       "  'energy_long': -3446.37718658,\n",
       "  'energy_long_real': -2135.94536095,\n",
       "  'energy_long_imag': -1310.43182563,\n",
       "  'lattice_vectors': [[8.872874, 0.0, 0.0],\n",
       "   [0.0, 9.432501, 0.0],\n",
       "   [0.0, 0.0, 8.565761]],\n",
       "  'config': [['Tc', 'core', 0.620302, 0.243497, 0.083331],\n",
       "   ['Mn', 'core', 0.620302, 0.743492, 0.750012],\n",
       "   ['Mn', 'core', 0.1203, 0.506495, 0.416677],\n",
       "   ['Mn', 'core', 0.837392, 0.493495, 0.250004],\n",
       "   ['Mn', 'core', 0.620302, 0.743492, 0.083331],\n",
       "   ['Mn', 'core', 0.620302, 0.243497, 0.416677],\n",
       "   ['Mn', 'core', 0.337391, 0.756492, 0.916685],\n",
       "   ['Mn', 'core', 0.837392, 0.493495, 0.916685],\n",
       "   ['Mn', 'core', 0.837392, 0.993489, 0.916685],\n",
       "   ['Mn', 'core', 0.837392, 0.493495, 0.583339],\n",
       "   ['Mn', 'core', 0.1203, 0.0065, 0.416677],\n",
       "   ['Mn', 'core', 0.337391, 0.256497, 0.583339],\n",
       "   ['Mn', 'core', 0.337391, 0.756492, 0.583339],\n",
       "   ['Mn', 'core', 0.620302, 0.243497, 0.750012],\n",
       "   ['Mn', 'core', 0.837392, 0.993489, 0.583339],\n",
       "   ['Mn', 'core', 0.1203, 0.0065, 0.083331],\n",
       "   ['Mn', 'core', 0.337391, 0.256497, 0.250004],\n",
       "   ['Mn', 'core', 0.337391, 0.756492, 0.250004],\n",
       "   ['Mn', 'core', 0.1203, 0.506495, 0.750012],\n",
       "   ['Mn', 'core', 0.1203, 0.506495, 0.083331],\n",
       "   ['Mn', 'core', 0.1203, 0.0065, 0.750012],\n",
       "   ['Mn', 'core', 0.620302, 0.743492, 0.416677],\n",
       "   ['Mn', 'core', 0.837392, 0.993489, 0.250004],\n",
       "   ['Mn', 'core', 0.337391, 0.256497, 0.916685],\n",
       "   ['Li', 'core', 0.580422, 0.499995, 0.0],\n",
       "   ['O', 'core', 0.02537, 0.099949, 0.250004],\n",
       "   ['O', 'core', 0.432321, 0.349946, 0.083331],\n",
       "   ['O', 'core', 0.525372, 0.150048, 0.250004],\n",
       "   ['O', 'core', 0.932323, 0.400046, 0.083331],\n",
       "   ['O', 'core', 0.251791, 0.155948, 0.083331],\n",
       "   ['O', 'core', 0.205901, 0.405946, 0.250004],\n",
       "   ['O', 'core', 0.751792, 0.094049, 0.083331],\n",
       "   ['O', 'core', 0.705902, 0.344046, 0.250004],\n",
       "   ['O', 'core', 0.02537, 0.599944, 0.250004],\n",
       "   ['O', 'core', 0.432321, 0.849941, 0.083331],\n",
       "   ['O', 'core', 0.525372, 0.650043, 0.250004],\n",
       "   ['O', 'core', 0.932323, 0.90004, 0.083331],\n",
       "   ['O', 'core', 0.251791, 0.655943, 0.083331],\n",
       "   ['O', 'core', 0.205901, 0.90594, 0.250004],\n",
       "   ['O', 'core', 0.751792, 0.594044, 0.083331],\n",
       "   ['O', 'core', 0.705902, 0.844041, 0.250004],\n",
       "   ['O', 'core', 0.02537, 0.099949, 0.583339],\n",
       "   ['O', 'core', 0.432321, 0.349946, 0.416677],\n",
       "   ['O', 'core', 0.525372, 0.150048, 0.583339],\n",
       "   ['O', 'core', 0.932323, 0.400046, 0.416677],\n",
       "   ['O', 'core', 0.251791, 0.155948, 0.416677],\n",
       "   ['O', 'core', 0.205901, 0.405946, 0.583339],\n",
       "   ['O', 'core', 0.751792, 0.094049, 0.416677],\n",
       "   ['O', 'core', 0.705902, 0.344046, 0.583339],\n",
       "   ['O', 'core', 0.02537, 0.599944, 0.583339],\n",
       "   ['O', 'core', 0.432321, 0.849941, 0.416677],\n",
       "   ['O', 'core', 0.525372, 0.650043, 0.583339],\n",
       "   ['O', 'core', 0.932323, 0.90004, 0.416677],\n",
       "   ['O', 'core', 0.251791, 0.655943, 0.416677],\n",
       "   ['O', 'core', 0.205901, 0.90594, 0.583339],\n",
       "   ['O', 'core', 0.751792, 0.594044, 0.416677],\n",
       "   ['O', 'core', 0.705902, 0.844041, 0.583339],\n",
       "   ['O', 'core', 0.02537, 0.099949, 0.916685],\n",
       "   ['O', 'core', 0.432321, 0.349946, 0.750012],\n",
       "   ['O', 'core', 0.525372, 0.150048, 0.916685],\n",
       "   ['O', 'core', 0.932323, 0.400046, 0.750012],\n",
       "   ['O', 'core', 0.251791, 0.155948, 0.750012],\n",
       "   ['O', 'core', 0.205901, 0.405946, 0.916685],\n",
       "   ['O', 'core', 0.751792, 0.094049, 0.750012],\n",
       "   ['O', 'core', 0.705902, 0.344046, 0.916685],\n",
       "   ['O', 'core', 0.02537, 0.599944, 0.916685],\n",
       "   ['O', 'core', 0.432321, 0.849941, 0.750012],\n",
       "   ['O', 'core', 0.525372, 0.650043, 0.916685],\n",
       "   ['O', 'core', 0.932323, 0.90004, 0.750012],\n",
       "   ['O', 'core', 0.251791, 0.655943, 0.750012],\n",
       "   ['O', 'core', 0.205901, 0.90594, 0.916685],\n",
       "   ['O', 'core', 0.751792, 0.594044, 0.750012],\n",
       "   ['O', 'core', 0.705902, 0.844041, 0.916685]]},\n",
       " 'final': {'energy': -3008.70846627,\n",
       "  'energy_ip': 620.01700427,\n",
       "  'energy_long': -3628.72547055,\n",
       "  'energy_long_real': -2317.6475333,\n",
       "  'energy_long_imag': -1311.07793725,\n",
       "  'lattice_vectors': [[8.872874, 0.0, 0.0],\n",
       "   [0.0, 9.432501, 0.0],\n",
       "   [0.0, 0.0, 8.565761]],\n",
       "  'config': [['Tc', 'core', 0.633158, 0.237509, 0.084442],\n",
       "   ['Mn', 'core', 0.624416, 0.748368, 0.750392],\n",
       "   ['Mn', 'core', 0.123321, 0.510176, 0.416932],\n",
       "   ['Mn', 'core', 0.834122, 0.499258, 0.25181],\n",
       "   ['Mn', 'core', 0.626366, 0.753995, 0.084506],\n",
       "   ['Mn', 'core', 0.622265, 0.251503, 0.416298],\n",
       "   ['Mn', 'core', 0.331896, 0.761081, 0.916466],\n",
       "   ['Mn', 'core', 0.835412, 0.500788, 0.915111],\n",
       "   ['Mn', 'core', 0.838188, 0.994119, 0.916986],\n",
       "   ['Mn', 'core', 0.834026, 0.498979, 0.58346],\n",
       "   ['Mn', 'core', 0.125953, 0.00919, 0.417473],\n",
       "   ['Mn', 'core', 0.333226, 0.261622, 0.582996],\n",
       "   ['Mn', 'core', 0.335223, 0.757951, 0.583561],\n",
       "   ['Mn', 'core', 0.622332, 0.250849, 0.750797],\n",
       "   ['Mn', 'core', 0.833637, 0.000607, 0.583286],\n",
       "   ['Mn', 'core', 0.125872, 0.006596, 0.08393],\n",
       "   ['Mn', 'core', 0.333465, 0.261834, 0.249509],\n",
       "   ['Mn', 'core', 0.335279, 0.758171, 0.250467],\n",
       "   ['Mn', 'core', 0.123813, 0.509289, 0.749681],\n",
       "   ['Mn', 'core', 0.123316, 0.505335, 0.083485],\n",
       "   ['Mn', 'core', 0.124093, 0.008355, 0.748796],\n",
       "   ['Mn', 'core', 0.624719, 0.748732, 0.417619],\n",
       "   ['Mn', 'core', 0.838798, 0.994196, 0.250491],\n",
       "   ['Mn', 'core', 0.33025, 0.25361, 0.91547],\n",
       "   ['Li', 'core', 0.484283, 0.496676, 0.998887],\n",
       "   ['O', 'core', 0.033011, 0.062219, 0.250155],\n",
       "   ['O', 'core', 0.403271, 0.33722, 0.078571],\n",
       "   ['O', 'core', 0.519588, 0.19375, 0.256638],\n",
       "   ['O', 'core', 0.9245, 0.442018, 0.082994],\n",
       "   ['O', 'core', 0.251787, 0.157274, 0.082542],\n",
       "   ['O', 'core', 0.202806, 0.411234, 0.251984],\n",
       "   ['O', 'core', 0.762025, 0.07871, 0.08333],\n",
       "   ['O', 'core', 0.710892, 0.353927, 0.267861],\n",
       "   ['O', 'core', 0.030733, 0.565754, 0.248099],\n",
       "   ['O', 'core', 0.428421, 0.814406, 0.081621],\n",
       "   ['O', 'core', 0.531443, 0.692789, 0.247944],\n",
       "   ['O', 'core', 0.934489, 0.934445, 0.083137],\n",
       "   ['O', 'core', 0.256961, 0.656629, 0.081328],\n",
       "   ['O', 'core', 0.209324, 0.908295, 0.249716],\n",
       "   ['O', 'core', 0.746897, 0.596888, 0.082207],\n",
       "   ['O', 'core', 0.708531, 0.845298, 0.250693],\n",
       "   ['O', 'core', 0.031262, 0.064411, 0.5833],\n",
       "   ['O', 'core', 0.423696, 0.320472, 0.417653],\n",
       "   ['O', 'core', 0.529435, 0.196179, 0.584],\n",
       "   ['O', 'core', 0.929989, 0.446424, 0.418217],\n",
       "   ['O', 'core', 0.249823, 0.161129, 0.417897],\n",
       "   ['O', 'core', 0.205852, 0.412317, 0.583677],\n",
       "   ['O', 'core', 0.751204, 0.095909, 0.416059],\n",
       "   ['O', 'core', 0.707032, 0.348117, 0.584425],\n",
       "   ['O', 'core', 0.032305, 0.567848, 0.583909],\n",
       "   ['O', 'core', 0.428823, 0.813092, 0.416739],\n",
       "   ['O', 'core', 0.530822, 0.692976, 0.584331],\n",
       "   ['O', 'core', 0.929063, 0.942216, 0.418177],\n",
       "   ['O', 'core', 0.252218, 0.661136, 0.416141],\n",
       "   ['O', 'core', 0.209231, 0.909776, 0.58429],\n",
       "   ['O', 'core', 0.751705, 0.600085, 0.418177],\n",
       "   ['O', 'core', 0.706077, 0.848259, 0.584225],\n",
       "   ['O', 'core', 0.033137, 0.062839, 0.916818],\n",
       "   ['O', 'core', 0.422432, 0.320599, 0.751275],\n",
       "   ['O', 'core', 0.520217, 0.191376, 0.909551],\n",
       "   ['O', 'core', 0.929611, 0.445564, 0.749217],\n",
       "   ['O', 'core', 0.249578, 0.159217, 0.748815],\n",
       "   ['O', 'core', 0.203939, 0.410913, 0.914022],\n",
       "   ['O', 'core', 0.751783, 0.096821, 0.752272],\n",
       "   ['O', 'core', 0.70449, 0.359471, 0.900526],\n",
       "   ['O', 'core', 0.031298, 0.565677, 0.918163],\n",
       "   ['O', 'core', 0.42978, 0.812192, 0.752763],\n",
       "   ['O', 'core', 0.530232, 0.681957, 0.921056],\n",
       "   ['O', 'core', 0.928062, 0.94197, 0.74925],\n",
       "   ['O', 'core', 0.252719, 0.661366, 0.751644],\n",
       "   ['O', 'core', 0.208373, 0.909635, 0.916061],\n",
       "   ['O', 'core', 0.751595, 0.600418, 0.74982],\n",
       "   ['O', 'core', 0.705902, 0.844041, 0.916685]]}}"
      ]
     },
     "execution_count": 6,
     "metadata": {},
     "output_type": "execute_result"
    }
   ],
   "source": [
    "with open('data/database/config_size_1.pkl', 'rb') as file:\n",
    "    data = pickle.load(file)\n",
    "\n",
    "# Print the loaded data to verify\n",
    "data[list(data.keys())[0]]\n"
   ]
  },
  {
   "cell_type": "markdown",
   "id": "51b916ff",
   "metadata": {},
   "source": [
    "# <a id='geom_analysis'>Geometry analysis</a>\n",
    "- deviation around perfect lattice site per Li concentration (Mn and O)\n",
    "- find grid of points where Li are more likely to sit (3D probability map) \n",
    "    - need to define a very dense grid\n",
    "    - use symmetry?\n",
    "\n",
    "#### Important variables in the functions below\n",
    "\n",
    "M: grid definition. This defines the initial grid. Each atom will be assigned to a cube within the cell. M is the number of division along each lattice parameter, so the final number of cubes is M**3\n",
    "N_positions_final: the final number of coordinates. These are the top N_positions_final in terms of probability. The coordinate that is returned is the center of the cube, so all the points within the cube now have the center as coordinate.\n",
    "\n",
    "\n",
    "#### Considerations\n",
    "\n",
    "There cannot be more N_positions_final than grid points.\n",
    "Do the final positions converge with the grid size increase?\n",
    "If the grid is too fine, I end up with a lot of positions that are very close (?)\n",
    "At the end I could average the points that are too close, but wouldn'it be like using a smaller grid? -> the grid size could represent the minimum separation between sites that I want to use.\n",
    "We could simmetrise after all the above and keep the average if two atoms are too close.\n",
    "\n",
    "#### TO DO\n",
    "\n",
    "plot mse and R vs:\n",
    "- sample size\n",
    "- grid size\n",
    "- num coordinates"
   ]
  },
  {
   "cell_type": "markdown",
   "id": "34cc2747",
   "metadata": {},
   "source": [
    "### <a id='li_distribution'>Li distribution</a>"
   ]
  },
  {
   "cell_type": "code",
   "execution_count": 7,
   "id": "f24d1aff",
   "metadata": {},
   "outputs": [],
   "source": [
    "vview(Structure.from_sites(fully_lithiated_structure_init[0:24]))"
   ]
  },
  {
   "cell_type": "code",
   "execution_count": 186,
   "id": "f84032c5",
   "metadata": {},
   "outputs": [
    {
     "name": "stderr",
     "output_type": "stream",
     "text": [
      "Computing Li positions: 100%|██████████| 24/24 [00:01<00:00, 13.95it/s]\n"
     ]
    },
    {
     "data": {
      "image/png": "[encoded data removed]",
      "text/plain": [
       "<Figure size 640x480 with 2 Axes>"
      ]
     },
     "metadata": {},
     "output_type": "display_data"
    }
   ],
   "source": [
    "li_coords_all = []\n",
    "num_samples = 100\n",
    "M = 20 #grid definition\n",
    "N_positions_final = 20\n",
    "\n",
    "for i in tqdm(range(1,25), desc=\"Computing Li positions\"):\n",
    "    with open(f'data/database/config_size_{i}.pkl', 'rb') as file:\n",
    "        data = pickle.load(file)\n",
    "    samples = np.random.choice(len(data),num_samples)\n",
    "    \n",
    "    structure_n = np.array(list(data.keys()))[samples]\n",
    "\n",
    "    for i in structure_n:\n",
    "        coords_tmp = np.array(data[i]['final']['config'])#[-48:])[:,2:]\n",
    "        li_index = np.where(coords_tmp[:,0] == 'Li')[0]\n",
    "\n",
    "        li_coords = np.array(coords_tmp[li_index][:,2:])\n",
    "        li_coords = np.array(li_coords,dtype='float').tolist()\n",
    "        li_coords_all.extend(li_coords)\n",
    "        \n",
    "\n",
    "li_coords_all = np.array(li_coords_all)\n",
    "grid = compute_probability_grid(li_coords_all, M)\n",
    "\n",
    "plot_probability_grid(grid)\n",
    "\n",
    "centers = find_fractional_centers(M)\n",
    "top_centers = find_top_x_points(grid,centers,N_positions_final)\n",
    "\n",
    "coord_top = []\n",
    "for line in top_centers:\n",
    "    coord_top.append(line[0])\n",
    "coord_top = np.array(coord_top)\n",
    "vview(Structure(delithiated_structure_init.lattice.matrix,[1]*N_positions_final,coord_top))\n",
    "\n"
   ]
  },
  {
   "cell_type": "code",
   "execution_count": 9,
   "id": "1b209058",
   "metadata": {},
   "outputs": [],
   "source": [
    "vview(Structure(delithiated_structure_init.lattice.matrix,[1]*N_positions_final,coord_top))"
   ]
  },
  {
   "cell_type": "markdown",
   "id": "0612f8bb",
   "metadata": {},
   "source": [
    "## Apply symmetry operators to the Li top centers"
   ]
  },
  {
   "cell_type": "code",
   "execution_count": 187,
   "id": "fbf2e363",
   "metadata": {},
   "outputs": [
    {
     "data": {
      "text/plain": [
       "960"
      ]
     },
     "execution_count": 187,
     "metadata": {},
     "output_type": "execute_result"
    }
   ],
   "source": [
    "symmops = SpacegroupAnalyzer(delithiated_structure_init).get_symmetry_operations()\n",
    "num_symmops = len(symmops)\n",
    "\n",
    "symmetrised_coords = []\n",
    "for symmop in symmops:\n",
    "    for coord in coord_top:\n",
    "        symmetrised_coords.append(symmop.operate(coord)%1)\n",
    "\n",
    "\n",
    "symmetrised_coords = np.array(symmetrised_coords)\n",
    "len(symmetrised_coords)"
   ]
  },
  {
   "cell_type": "code",
   "execution_count": 188,
   "id": "a926df74",
   "metadata": {},
   "outputs": [
    {
     "name": "stdout",
     "output_type": "stream",
     "text": [
      "47\n"
     ]
    }
   ],
   "source": [
    "threshold = 0.1  # THIS IS AN IMPORTANT PARAMETER\n",
    "\n",
    "averaged_symmetrised_coords = average_close_points(symmetrised_coords, threshold)\n",
    "\n",
    "print(len(averaged_symmetrised_coords))"
   ]
  },
  {
   "cell_type": "code",
   "execution_count": 189,
   "id": "7f211867",
   "metadata": {},
   "outputs": [],
   "source": [
    "vview(Structure(delithiated_structure_init.lattice.matrix,[1]*len(averaged_symmetrised_coords),averaged_symmetrised_coords))"
   ]
  },
  {
   "cell_type": "markdown",
   "id": "8078d65f",
   "metadata": {},
   "source": [
    "## Define the model\n",
    "\n",
    " This is the final sites included in the model. We define it here, but we might only need it for generating images."
   ]
  },
  {
   "cell_type": "code",
   "execution_count": null,
   "id": "8672f26e",
   "metadata": {},
   "outputs": [],
   "source": [
    "mn_sites = delithiated_structure_init[:] # This include all sites now (also O)\n",
    "mn_sites_coords = delithiated_structure_init.frac_coords[:]\n",
    "\n",
    "li_sites = []\n",
    "\n",
    "for coord in averaged_symmetrised_coords:   \n",
    "    li_sites.append(PeriodicSite('Li',coord,delithiated_structure_init.lattice)) \n",
    "\n",
    "li_sites_coords = copy.deepcopy(averaged_symmetrised_coords)\n",
    "\n",
    "\n",
    "all_sites = copy.deepcopy(mn_sites)\n",
    "all_sites.extend(li_sites)\n",
    "\n",
    "all_coordinates_final = np.vstack((np.array(mn_sites_coords),averaged_symmetrised_coords))\n",
    "\n",
    "final_model = Structure.from_sites(all_sites)\n",
    "\n",
    "\n",
    "vview(Structure.from_sites(all_sites))"
   ]
  },
  {
   "cell_type": "code",
   "execution_count": 14,
   "id": "df6195f1",
   "metadata": {},
   "outputs": [],
   "source": [
    "# I DON'T THINK WE NEED THIS\n",
    "# mn_sites = delithiated_structure_init[0:24]\n",
    "# mn_sites_coords = delithiated_structure_init.frac_coords[0:24]\n",
    "\n",
    "# li_sites = []\n",
    "\n",
    "# for coord in symmetrised_coords:   \n",
    "#     li_sites.append(PeriodicSite('Li',coord,delithiated_structure_init.lattice)) \n",
    "\n",
    "# li_sites_coords = copy.deepcopy(averaged_symmetrised_coords)\n",
    "\n",
    "\n",
    "# all_sites = copy.deepcopy(mn_sites)\n",
    "# all_sites.extend(li_sites)\n",
    "\n",
    "# final_model_all_symmetrised = Structure.from_sites(all_sites)\n",
    "\n",
    "# vview(Structure.from_sites(all_sites))"
   ]
  },
  {
   "cell_type": "markdown",
   "id": "bd9d0d6a",
   "metadata": {},
   "source": [
    "## Find if structures map to our grid\n",
    "Now that we have defined the Li coordinates to keep, I need to ensure that the GULP optimised structures map to those coordinates.\n",
    "\n",
    "This is a good test, but we actually do it later when building the train set anyway."
   ]
  },
  {
   "cell_type": "code",
   "execution_count": 15,
   "id": "3cbf0566",
   "metadata": {},
   "outputs": [],
   "source": [
    "\n",
    "tree_li = KDTree(li_sites_coords)  # Precompute KDTree\n",
    "tree_mn = KDTree(mn_sites_coords)"
   ]
  },
  {
   "cell_type": "code",
   "execution_count": 16,
   "id": "d75d7ed7",
   "metadata": {},
   "outputs": [
    {
     "name": "stderr",
     "output_type": "stream",
     "text": [
      "Computing Li positions: 100%|██████████| 2/2 [00:00<00:00, 10.29it/s]"
     ]
    },
    {
     "name": "stdout",
     "output_type": "stream",
     "text": [
      "[29]\n",
      "[30 31]\n"
     ]
    },
    {
     "name": "stderr",
     "output_type": "stream",
     "text": [
      "\n"
     ]
    }
   ],
   "source": [
    "li_coords_map = []\n",
    "num_samples = 1\n",
    "\n",
    "all_distances = []\n",
    "\n",
    "\n",
    "threshold_dist = 0.1\n",
    "\n",
    "for i in tqdm(range(1,3), desc=\"Computing Li positions\"):\n",
    "    with open(f'data/database/config_size_{i}.pkl', 'rb') as file:\n",
    "        data = pickle.load(file)\n",
    "    \n",
    "    samples = np.random.choice(len(data), num_samples)\n",
    "    structure_n = np.array(list(data.keys()))[samples]\n",
    "\n",
    "    for i in structure_n:\n",
    "        coords_tmp = np.array(data[i]['final']['config'])  # Extract structure data\n",
    "        li_index = np.where(coords_tmp[:, 0] == 'Li')[0]  # Find Lithium positions\n",
    "\n",
    "        li_coords = np.array(coords_tmp[li_index][:, 2:], dtype='float').tolist()\n",
    "\n",
    "        # Compute closest distances and indices\n",
    "        distances, indices = compute_closest_distances(li_coords, tree_li)\n",
    "        print(indices)\n",
    "        if np.any(distances > threshold_dist):\n",
    "            break\n",
    "        # Print results\n",
    "        for i, (point, dist, idx) in enumerate(zip(li_coords, distances, indices)):\n",
    "            closest_point = averaged_symmetrised_coords[idx]  # Retrieve the actual closest coordinate\n",
    "            all_distances.append(dist)\n",
    "            # print(f\"Point {i}: {point} -> Closest Distance: {dist:.4f}, Closest Coord: {closest_point}, Index: {idx}\")"
   ]
  },
  {
   "cell_type": "markdown",
   "id": "d2783628",
   "metadata": {},
   "source": [
    "### <a id='mn_distribution'>Mn distribution</a>\n",
    "\n",
    "I fixed this by sorting the coordinates (lexsort)\n",
    "\n",
    "I am using fractional coordinates.\n"
   ]
  },
  {
   "cell_type": "code",
   "execution_count": 17,
   "id": "c828074e",
   "metadata": {},
   "outputs": [
    {
     "name": "stderr",
     "output_type": "stream",
     "text": [
      "Computing Mn positions: 100%|██████████| 24/24 [00:02<00:00,  9.57it/s]\n"
     ]
    }
   ],
   "source": [
    "mn_coords_all = []\n",
    "num_samples = 100 #MAKE RANDOM\n",
    "\n",
    "for i in tqdm(range(1,25), desc=\"Computing Mn positions\"):\n",
    "    with open(f'data/database/config_size_{i}.pkl', 'rb') as file:\n",
    "        data = pickle.load(file)\n",
    "    samples = np.random.choice(len(data),num_samples)\n",
    "\n",
    "    structure_n = np.array(list(data.keys()))[samples]\n",
    "    mn_coords_all = []\n",
    "    for j in structure_n:\n",
    "        coords_tmp = np.array(data[j]['initial']['config'])\n",
    "        mn_coords_init = np.array(coords_tmp[0:24][:,2:]) \n",
    "        mn_coords_init = np.array(mn_coords_init,dtype='float')\n",
    "        \n",
    "        ordering = np.lexsort(mn_coords_init.T)\n",
    "        \n",
    "        coords_tmp = np.array(data[j]['final']['config'])#[-48:])[:,2:]\n",
    "        mn_coords = np.array(coords_tmp[0:24][:,2:])\n",
    "\n",
    "        mn_coords = np.array(mn_coords,dtype='float')\n",
    "        mn_coords_ordered = np.array(mn_coords,dtype='float')[ordering]\n",
    "        \n",
    "        mn_coords_all.append(mn_coords_ordered.tolist())\n",
    "        \n",
    "\n",
    "    mn_coords_all = np.array(mn_coords_all)"
   ]
  },
  {
   "cell_type": "markdown",
   "id": "fb8855a4",
   "metadata": {},
   "source": [
    "#### Standard deviation of positions"
   ]
  },
  {
   "cell_type": "code",
   "execution_count": 18,
   "id": "43480dfc",
   "metadata": {},
   "outputs": [
    {
     "data": {
      "text/plain": [
       "array([[0.02590078, 0.02163773, 0.00529501],\n",
       "       [0.01093411, 0.00782969, 0.00452913],\n",
       "       [0.02467065, 0.0296401 , 0.00434745],\n",
       "       [0.02568752, 0.03331688, 0.01746125],\n",
       "       [0.03577725, 0.03226945, 0.01588741],\n",
       "       [0.03258047, 0.00824438, 0.00475234],\n",
       "       [0.00743889, 0.01299271, 0.00454101],\n",
       "       [0.02603132, 0.48714092, 0.00492138],\n",
       "       [0.03828734, 0.01245108, 0.00434645],\n",
       "       [0.02688524, 0.0087449 , 0.00379272],\n",
       "       [0.02503285, 0.01225111, 0.00454119],\n",
       "       [0.04004917, 0.01919339, 0.00437801],\n",
       "       [0.02705072, 0.02279723, 0.00453546],\n",
       "       [0.0391863 , 0.04514442, 0.00672583],\n",
       "       [0.03617036, 0.02163409, 0.00467065],\n",
       "       [0.02952793, 0.48424007, 0.00460956],\n",
       "       [0.04692916, 0.01282554, 0.00501912],\n",
       "       [0.02958514, 0.02781696, 0.00432009],\n",
       "       [0.00913843, 0.01216148, 0.00492004],\n",
       "       [0.01600897, 0.02878686, 0.00432358],\n",
       "       [0.01786463, 0.03480671, 0.00544573],\n",
       "       [0.0320278 , 0.03182364, 0.00557999],\n",
       "       [0.02746434, 0.02177501, 0.00450507],\n",
       "       [0.01179101, 0.48967177, 0.00531891]])"
      ]
     },
     "execution_count": 18,
     "metadata": {},
     "output_type": "execute_result"
    }
   ],
   "source": [
    "np.std(mn_coords_all,axis=0)"
   ]
  },
  {
   "cell_type": "markdown",
   "id": "5464024e",
   "metadata": {},
   "source": [
    "### <a id='o_distribution'>O distribution</a>"
   ]
  },
  {
   "cell_type": "markdown",
   "id": "d604de9c",
   "metadata": {},
   "source": [
    "#### Same approach as Mn"
   ]
  },
  {
   "cell_type": "code",
   "execution_count": 19,
   "id": "4b389ecb",
   "metadata": {},
   "outputs": [
    {
     "name": "stderr",
     "output_type": "stream",
     "text": [
      "Computing Mn positions: 100%|██████████| 24/24 [00:02<00:00, 10.72it/s]\n"
     ]
    }
   ],
   "source": [
    "o_coords_all = []\n",
    "num_samples = 100 #MAKE RANDOM\n",
    "\n",
    "for i in tqdm(range(1,25), desc=\"Computing Mn positions\"):\n",
    "    with open(f'data/database/config_size_{i}.pkl', 'rb') as file:\n",
    "        data = pickle.load(file)\n",
    "    samples = np.random.choice(len(data),num_samples)\n",
    "\n",
    "    structure_n = np.array(list(data.keys()))[samples]\n",
    "    o_coords_all = []\n",
    "    for j in structure_n:\n",
    "        coords_tmp = np.array(data[j]['initial']['config'])\n",
    "        o_coords_init = np.array(coords_tmp[-48:][:,2:]) \n",
    "        o_coords_init = np.array(o_coords_init,dtype='float')\n",
    "        \n",
    "        ordering = np.lexsort(o_coords_init.T)\n",
    "        \n",
    "        coords_tmp = np.array(data[j]['final']['config'])#[-48:])[:,2:]\n",
    "        o_coords = np.array(coords_tmp[-48:][:,2:])\n",
    "\n",
    "        o_coords = np.array(o_coords,dtype='float')\n",
    "        o_coords_ordered = np.array(o_coords,dtype='float')[ordering]\n",
    "        \n",
    "        o_coords_all.append(o_coords_ordered.tolist())\n",
    "        \n",
    "\n",
    "    o_coords_all = np.array(o_coords_all)"
   ]
  },
  {
   "cell_type": "code",
   "execution_count": 20,
   "id": "6135da37",
   "metadata": {},
   "outputs": [
    {
     "data": {
      "text/plain": [
       "array([[1.30025867e-02, 9.77705280e-03, 5.57544942e-03],\n",
       "       [1.47044646e-02, 1.62290669e-02, 5.43182685e-03],\n",
       "       [9.72431857e-03, 1.08586868e-02, 5.74924469e-03],\n",
       "       [1.00342653e-02, 1.07072633e-02, 6.55035632e-03],\n",
       "       [1.16271205e-02, 9.88566997e-03, 4.43620639e-03],\n",
       "       [1.25442379e-02, 1.46442064e-02, 4.27338234e-03],\n",
       "       [8.07168919e-03, 9.27508276e-03, 4.10813875e-03],\n",
       "       [8.78212704e-03, 9.30779796e-03, 5.97386901e-03],\n",
       "       [3.99732069e-01, 1.06391206e-02, 6.78504916e-03],\n",
       "       [1.05790295e-02, 1.09357423e-02, 5.63334012e-03],\n",
       "       [1.22777065e-02, 1.08314886e-02, 5.00464272e-03],\n",
       "       [1.28900832e-02, 1.43914279e-02, 4.47631803e-03],\n",
       "       [3.85769918e-01, 1.12469757e-02, 6.36941011e-03],\n",
       "       [9.61341526e-03, 9.68458817e-03, 4.84094996e-03],\n",
       "       [9.06374922e-03, 7.96131432e-03, 5.49295224e-03],\n",
       "       [1.30870480e-02, 1.20746867e-02, 5.16590252e-03],\n",
       "       [1.14543100e-02, 1.16094753e-02, 4.84124594e-03],\n",
       "       [1.36602262e-02, 1.43146660e-02, 5.53371561e-03],\n",
       "       [9.27097501e-03, 1.24193328e-02, 5.77919954e-03],\n",
       "       [9.78889444e-03, 1.02457558e-02, 6.44295520e-03],\n",
       "       [1.19658511e-02, 1.11055731e-02, 5.58240318e-03],\n",
       "       [1.14478140e-02, 1.35090763e-02, 4.29472755e-03],\n",
       "       [8.10731798e-03, 1.06856420e-02, 5.14089358e-03],\n",
       "       [9.01761473e-03, 8.66672822e-03, 5.90541581e-03],\n",
       "       [3.92635850e-01, 1.29229686e-02, 6.32133815e-03],\n",
       "       [1.06879139e-02, 1.10725041e-02, 5.38306017e-03],\n",
       "       [1.21062782e-02, 1.00148839e-02, 4.09816410e-03],\n",
       "       [1.27067608e-02, 1.44951362e-02, 5.44453508e-03],\n",
       "       [3.84654778e-01, 1.17156455e-02, 5.42490507e-03],\n",
       "       [9.27643717e-03, 1.00161963e-02, 4.80647761e-03],\n",
       "       [9.16972252e-03, 8.43944711e-03, 5.27462777e-03],\n",
       "       [1.38241143e-02, 9.63223736e-02, 4.70117734e-03],\n",
       "       [1.25042858e-02, 1.01620923e-02, 6.04921602e-03],\n",
       "       [1.42182287e-02, 1.54893041e-02, 5.12726708e-03],\n",
       "       [9.02389496e-03, 1.12435916e-02, 4.86491349e-03],\n",
       "       [9.20906159e-03, 1.11471951e-02, 5.97534615e-03],\n",
       "       [1.23693933e-02, 1.02498749e-02, 4.27092164e-03],\n",
       "       [1.24939326e-02, 1.51685339e-02, 4.41788654e-03],\n",
       "       [6.79890892e-03, 9.08239273e-03, 4.96306483e-03],\n",
       "       [9.26401155e-03, 9.90716938e-03, 5.63053366e-03],\n",
       "       [4.11702008e-01, 9.72772549e-03, 4.94397919e-03],\n",
       "       [1.21585297e-02, 1.12723734e-02, 7.71132497e-03],\n",
       "       [1.07538986e-02, 9.13511767e-03, 4.66155495e-03],\n",
       "       [1.16246814e-02, 1.69977705e-02, 4.97167746e-03],\n",
       "       [3.68046290e-01, 1.17744305e-02, 5.83266690e-03],\n",
       "       [9.69540743e-03, 1.05982584e-02, 5.36265718e-03],\n",
       "       [6.66133815e-16, 1.11022302e-16, 7.77156117e-16],\n",
       "       [1.28566747e-02, 1.43132916e-02, 6.89370957e-03]])"
      ]
     },
     "execution_count": 20,
     "metadata": {},
     "output_type": "execute_result"
    }
   ],
   "source": [
    "np.std(o_coords_all,axis=0)"
   ]
  },
  {
   "cell_type": "markdown",
   "id": "61e9e4ea",
   "metadata": {},
   "source": [
    "# <a id='build_qubo_ml'>Build the QUBO model</a>"
   ]
  },
  {
   "cell_type": "code",
   "execution_count": 21,
   "id": "2c066171",
   "metadata": {},
   "outputs": [],
   "source": [
    "tree_li = KDTree(symmetrised_coords)\n",
    "tree_li_average = KDTree(averaged_symmetrised_coords)\n",
    "\n",
    "mn_sites_coords = delithiated_structure_init.frac_coords[0:24]\n",
    "\n",
    "tree_mn = KDTree(mn_sites_coords)\n",
    "\n",
    "symmops = SpacegroupAnalyzer(delithiated_structure_init).get_symmetry_operations()\n",
    "n_symmops = len(symmops)"
   ]
  },
  {
   "cell_type": "markdown",
   "id": "5a6051da",
   "metadata": {},
   "source": [
    "### Cathy exercise 2\n",
    "\n",
    "function that generates the Li atom distribution\n",
    "\n",
    "function generates the binary vectors (X_train and X_test)\n",
    "\n",
    "function for test/train split\n",
    "\n",
    "function to do LR to build QUBO\n",
    "\n",
    "function to calculate the QUBO energies for X_test\n",
    "\n",
    "YOU DO:\n",
    "\n",
    "\n"
   ]
  },
  {
   "cell_type": "markdown",
   "id": "48cc8f5b",
   "metadata": {},
   "source": [
    "### Formation energies:\n",
    "$$\n",
    "E_r = E[\\text{Li}_x\\text{Mn}_x^{(3+)}\\text{Mn}_{1-x}^{(4+)}\\text{O}_2] - E[\\text{MnO}_2] \n",
    "+ x (I_1^{\\text{Li}} - I_4^{\\text{Mn}} + E_{\\text{corr}})\n",
    "$$\n",
    "\n",
    "**RMO Lithiation Reaction Energy Corrections**<sup>a</sup>\n",
    "\n",
    "| parameters in [eq 2](#) | (eV)  |\n",
    "|-------------------------|------:|\n",
    "| $I_1^{\\text{Li}}$       | 5.39171 |\n",
    "| $I_4^{\\text{Mn}}$       | 51.2   |\n",
    "| $E_{\\text{corr}}$       | 7.391  |\n",
    "\n",
    "My calculation\n",
    "$$\n",
    "E[\\text{MnO}_2] =  -3479.40750422947+496.08851796324404\n",
    "$$\n",
    "\n",
    "Kyu's GULP\n",
    "$$\n",
    "E[\\text{MnO}_2] =  -3479.43334075+496.08285732\n",
    "$$"
   ]
  },
  {
   "cell_type": "code",
   "execution_count": 22,
   "id": "5562cd0f",
   "metadata": {},
   "outputs": [
    {
     "name": "stderr",
     "output_type": "stream",
     "text": [
      "Computing Li positions: 100%|██████████| 24/24 [00:05<00:00,  4.34it/s]\n"
     ]
    }
   ],
   "source": [
    "import pickle\n",
    "import numpy as np\n",
    "from tqdm import tqdm\n",
    "\n",
    "num_samples = 50  # Number of structures randomly sampled from each dataset\n",
    "\n",
    "E_0 = -3479.43334075+496.08285732\n",
    "I_Li = 5.39171\n",
    "I_Mn = 51.2\n",
    "E_corr = 7.391\n",
    "\n",
    "# Lists to store extracted data\n",
    "all_li_indices = []       # Stores indices of Li atoms after filtering\n",
    "mn_indices = []        # Stores indices of Mn (Tc in this case) atoms\n",
    "all_li_coordinates = []   # Stores Li atom coordinates after symmetry operations\n",
    "all_energies = []      # Stores final energy values of selected structures\n",
    "all_form_energies = []\n",
    "\n",
    "# Loop over different dataset sizes/configurations (from 1 to 24)\n",
    "for i in tqdm(range(1, 25), desc=\"Computing Li positions\"):\n",
    "    # Load the dataset for the given configuration size\n",
    "    with open(f'data/database/config_size_{i}.pkl', 'rb') as file:\n",
    "        data = pickle.load(file)\n",
    "\n",
    "    # Randomly sample a subset of structures from the dataset\n",
    "    samples = np.random.choice(len(data), num_samples)\n",
    "\n",
    "    # Extract structure identifiers (keys) for the selected samples\n",
    "    structure_n = np.array(list(data.keys()))[samples]\n",
    "\n",
    "    # Iterate through selected structures\n",
    "    for j in structure_n:\n",
    "        # Extract final configuration coordinates\n",
    "        coords_tmp = np.array(data[j]['final']['config'])  # Extracts coordinate data\n",
    "        li_index = np.where(coords_tmp[:, 0] == 'Li')[0]  # Identify Li atom indices\n",
    "        num_li_atoms = len(li_index)\n",
    "        # Get coordinates of Li atoms in the structure\n",
    "        li_coords = np.array(coords_tmp[li_index][:, 2:])  # Extract only coordinate values\n",
    "        li_coords = np.array(li_coords, dtype='float').tolist()  # Convert to float and list format\n",
    "\n",
    "        # Apply symmetry operations to Li coordinates\n",
    "        li_symm_coords = apply_symmops(li_coords, symmops)\n",
    "\n",
    "        # Compute the closest distances between symmetrized Li coordinates and a reference tree\n",
    "        distances, indices = compute_closest_distances(li_symm_coords, tree_li)\n",
    "\n",
    "        # Check if any distance is greater than a threshold (0.1), which may indicate an issue\n",
    "        if np.any(distances > 0.5):\n",
    "            print(f'Check distances structure {j} with conc {i}: max distance {np.max(distances)}')\n",
    "\n",
    "        # Store indices and symmetrized coordinates of Li atoms\n",
    "        all_li_indices.extend(indices)\n",
    "        all_li_coordinates.extend(symmetrised_coords[indices])  # Ensure symmetrised_coords is defined correctly\n",
    "\n",
    "        # Extract initial configuration coordinates for Mn (or Tc) atoms\n",
    "        coords_tmp = np.array(data[j]['initial']['config'])  # Extract coordinate data\n",
    "        mn_index = np.where(coords_tmp[:, 0] == 'Tc')[0]  # Identify Mn (Tc) atom indices\n",
    "\n",
    "        # Get coordinates of Mn atoms in the structure\n",
    "        mn_coords = np.array(coords_tmp[mn_index][:, 2:])  # Extract only coordinate values\n",
    "        mn_coords = np.array(mn_coords, dtype='float').tolist()  # Convert to float and list format\n",
    "\n",
    "        # Apply symmetry operations to Mn coordinates\n",
    "        mn_symm_coords = apply_symmops(mn_coords, symmops)\n",
    "\n",
    "        # Compute the closest distances between symmetrized Mn coordinates and a reference tree\n",
    "        distances, indices = compute_closest_distances(mn_symm_coords, tree_mn)\n",
    "\n",
    "        # Check if any Mn distance is greater than a threshold (0.01), which may indicate an issue\n",
    "        if np.any(distances > 0.01):\n",
    "            print(f'Check Mn distances structure {j} with conc {i}: max distance {np.max(distances)}')\n",
    "\n",
    "        # Store Mn indices\n",
    "        mn_indices.extend(indices)\n",
    "\n",
    "        # Store the final energy of the structure\n",
    "        # all_energies.append(float(data[j]['final']['energy']))\n",
    "        energy_tmp = float(data[j]['final']['energy'])\n",
    "        all_energies.extend([energy_tmp] * n_symmops)\n",
    "\n",
    "        all_form_energies.extend([energy_tmp-E_0+num_li_atoms*(I_Li-I_Mn+E_corr)]* n_symmops)\n",
    "\n"
   ]
  },
  {
   "cell_type": "code",
   "execution_count": 23,
   "id": "1c7c082b",
   "metadata": {},
   "outputs": [
    {
     "name": "stdout",
     "output_type": "stream",
     "text": [
      "64\n"
     ]
    }
   ],
   "source": [
    "# This has been defined above, but it's here too atm\n",
    "threshold = 0.1  # THIS IS AN IMPORTANT PARAMETER\n",
    "\n",
    "averaged_symmetrised_coords = average_close_points(symmetrised_coords, threshold)\n",
    "\n",
    "print(len(averaged_symmetrised_coords))"
   ]
  },
  {
   "cell_type": "markdown",
   "id": "35a5faf6",
   "metadata": {},
   "source": [
    "The cell below maps the all_li_coordinates (that can be any of the symmetrised ones) to the reduced ones (the ones we kept in the definition of the model above)"
   ]
  },
  {
   "cell_type": "code",
   "execution_count": 24,
   "id": "26fd9530",
   "metadata": {},
   "outputs": [],
   "source": [
    "averaged_li_indices = []\n",
    "for coordinates in all_li_coordinates:\n",
    "    distances, index = compute_closest_distances(coordinates, tree_li_average)\n",
    "    if np.any(distances > 0.1):\n",
    "        print(f'Check distances structure with conc : max distance {np.max(distances)}')\n",
    "    averaged_li_indices.append(index)"
   ]
  },
  {
   "cell_type": "markdown",
   "id": "3535b6a7",
   "metadata": {},
   "source": [
    "## Build the binary vectors\n",
    "TO DO: check the distances between points in symmetry equivalent points are constant"
   ]
  },
  {
   "cell_type": "code",
   "execution_count": 25,
   "id": "ecb66edf",
   "metadata": {},
   "outputs": [],
   "source": [
    "size_samples = len(mn_indices)\n",
    "num_mn = 24\n",
    "num_li = len(averaged_symmetrised_coords)\n",
    "binary_compositions = np.zeros((size_samples,num_mn+num_li),dtype='int')\n",
    "\n",
    "# Add Mn first\n",
    "for i,index in enumerate(mn_indices):\n",
    "    binary_compositions[i][index] = 1\n",
    "for i,index in enumerate(averaged_li_indices):\n",
    "    binary_compositions[i][index+num_mn] = 1"
   ]
  },
  {
   "cell_type": "markdown",
   "id": "050ec6f3",
   "metadata": {},
   "source": [
    "## Test/Train split"
   ]
  },
  {
   "cell_type": "code",
   "execution_count": 26,
   "id": "bc07f0e4",
   "metadata": {},
   "outputs": [
    {
     "name": "stdout",
     "output_type": "stream",
     "text": [
      "X_train shape: (46080, 88), X_test shape: (11520, 88)\n",
      "y_train shape: (46080,), y_test shape: (11520,)\n"
     ]
    }
   ],
   "source": [
    "from sklearn.model_selection import train_test_split\n",
    "import numpy as np\n",
    "\n",
    "# Example: binary_compositions is a 2D NumPy array (N samples, M features)\n",
    "# all_energies is a 1D list or NumPy array (N samples)\n",
    "binary_compositions = np.array(binary_compositions)  # Ensure it's an array\n",
    "all_form_energies = np.array(all_form_energies)  # Convert list to array if needed\n",
    "\n",
    "# Define split ratio (e.g., test_size=0.2 for 20% test set)\n",
    "test_ratio = 0.2  \n",
    "\n",
    "# Perform train-test split\n",
    "X_train, X_test, y_train, y_test = train_test_split(\n",
    "    binary_compositions, all_form_energies, test_size=test_ratio, random_state=42\n",
    ")\n",
    "\n",
    "# Print shapes to verify\n",
    "print(f\"X_train shape: {X_train.shape}, X_test shape: {X_test.shape}\")\n",
    "print(f\"y_train shape: {y_train.shape}, y_test shape: {y_test.shape}\")"
   ]
  },
  {
   "cell_type": "markdown",
   "id": "d4ee49ff",
   "metadata": {},
   "source": [
    "### Build the QUBO model for real"
   ]
  },
  {
   "cell_type": "code",
   "execution_count": 27,
   "id": "6d8b7d98",
   "metadata": {},
   "outputs": [],
   "source": [
    "def build_ml_qubo_test(distance_matrix,X_train,y_train,threshold=0.4):\n",
    "    \n",
    "    #  X_train are binary vectors\n",
    "    \n",
    "    num_sites = distance_matrix.shape[0]\n",
    "\n",
    "    # Build the adjacency matrix (1 if distance <= threshold, 0 otherwise)\n",
    "    adj_matrix = (distance_matrix <= threshold).astype(int)\n",
    " \n",
    "    # Ensure diagonal is 0 (no self-loops)\n",
    "    np.fill_diagonal(adj_matrix, 1)\n",
    "    \n",
    "    upper_tri_indices = np.where(adj_matrix != 0)\n",
    "\n",
    "    descriptor = []\n",
    "    for config in X_train:\n",
    "        matrix = np.outer(config,config)\n",
    "        upper_tri_elements = matrix[upper_tri_indices]\n",
    "        descriptor.append(upper_tri_elements)\n",
    "    \n",
    "    descriptor = np.array(descriptor)\n",
    "    print(descriptor.shape,len(y_train))\n",
    "    from sklearn.linear_model import LinearRegression\n",
    "    print(\"Adjacency matrix:\\n\", adj_matrix)\n",
    "    print(\"Upper triangular indices:\", upper_tri_indices)\n",
    "    print(\"Descriptor shape:\", descriptor.shape)\n",
    "    print(\"Sample descriptor row:\", descriptor[0])\n",
    "    print(\"y_train:\", y_train)\n",
    "    \n",
    "    reg = LinearRegression() #create the object\n",
    "    reg.fit(descriptor, y_train)\n",
    "    \n",
    "    print('R2: ',reg.score(descriptor, y_train))\n",
    "\n",
    "    Q = np.zeros((num_sites,num_sites))\n",
    "    Q[upper_tri_indices] = reg.coef_\n",
    "    \n",
    "    return Q"
   ]
  },
  {
   "cell_type": "code",
   "execution_count": 28,
   "id": "fe117c37",
   "metadata": {},
   "outputs": [
    {
     "name": "stdout",
     "output_type": "stream",
     "text": [
      "(46080, 7744) 46080\n",
      "R2:  0.9609241741258994\n"
     ]
    }
   ],
   "source": [
    "structure_tmp = Structure(delithiated_structure_init.lattice,[1]*len(all_coordinates_final),all_coordinates_final)\n",
    "dist_matrix = structure_tmp.distance_matrix\n",
    "\n",
    "Q = build_ml_qubo(dist_matrix,X_train,y_train,threshold=10.)"
   ]
  },
  {
   "cell_type": "code",
   "execution_count": 29,
   "id": "f22243fc",
   "metadata": {},
   "outputs": [
    {
     "data": {
      "text/plain": [
       "3663.2778212347844"
      ]
     },
     "execution_count": 29,
     "metadata": {},
     "output_type": "execute_result"
    }
   ],
   "source": [
    "y_pred = get_qubo_energies(Q,X_train)\n",
    "test_qubo_energies(y_pred,y_train)"
   ]
  },
  {
   "cell_type": "code",
   "execution_count": 30,
   "id": "6929e754",
   "metadata": {},
   "outputs": [
    {
     "data": {
      "text/plain": [
       "array([-63.47951934, -81.92842821, -77.55628857, ..., -63.77527284,\n",
       "       -76.76610068, -76.97945559], shape=(46080,))"
      ]
     },
     "execution_count": 30,
     "metadata": {},
     "output_type": "execute_result"
    }
   ],
   "source": [
    "y_train"
   ]
  },
  {
   "cell_type": "code",
   "execution_count": 31,
   "id": "9a0cf74b",
   "metadata": {},
   "outputs": [
    {
     "name": "stdout",
     "output_type": "stream",
     "text": [
      "(10, 10) 10\n",
      "Adjacency matrix:\n",
      " [[1 0 0 0 0 0 0 0 0 0]\n",
      " [0 1 0 0 0 0 0 0 0 0]\n",
      " [0 0 1 0 0 0 0 0 0 0]\n",
      " [0 0 0 1 0 0 0 0 0 0]\n",
      " [0 0 0 0 1 0 0 0 0 0]\n",
      " [0 0 0 0 0 1 0 0 0 0]\n",
      " [0 0 0 0 0 0 1 0 0 0]\n",
      " [0 0 0 0 0 0 0 1 0 0]\n",
      " [0 0 0 0 0 0 0 0 1 0]\n",
      " [0 0 0 0 0 0 0 0 0 1]]\n",
      "Upper triangular indices: (array([0, 1, 2, 3, 4, 5, 6, 7, 8, 9]), array([0, 1, 2, 3, 4, 5, 6, 7, 8, 9]))\n",
      "Descriptor shape: (10, 10)\n",
      "Sample descriptor row: [1 0 0 0 0 0 0 0 0 0]\n",
      "y_train: [-10, -10, -10, -10, -10, -10, -10, -10, -10, -10]\n",
      "R2:  1.0\n"
     ]
    },
    {
     "data": {
      "text/plain": [
       "array([[0., 0., 0., 0., 0., 0., 0., 0., 0., 0.],\n",
       "       [0., 0., 0., 0., 0., 0., 0., 0., 0., 0.],\n",
       "       [0., 0., 0., 0., 0., 0., 0., 0., 0., 0.],\n",
       "       [0., 0., 0., 0., 0., 0., 0., 0., 0., 0.],\n",
       "       [0., 0., 0., 0., 0., 0., 0., 0., 0., 0.],\n",
       "       [0., 0., 0., 0., 0., 0., 0., 0., 0., 0.],\n",
       "       [0., 0., 0., 0., 0., 0., 0., 0., 0., 0.],\n",
       "       [0., 0., 0., 0., 0., 0., 0., 0., 0., 0.],\n",
       "       [0., 0., 0., 0., 0., 0., 0., 0., 0., 0.],\n",
       "       [0., 0., 0., 0., 0., 0., 0., 0., 0., 0.]])"
      ]
     },
     "execution_count": 31,
     "metadata": {},
     "output_type": "execute_result"
    }
   ],
   "source": [
    "dist_matrix = np.ones((10,10))*10\n",
    "X_train = np.eye(10).astype('int')\n",
    "y_train = [-10]*10\n",
    "build_ml_qubo_test(dist_matrix,X_train,y_train,threshold=3.)"
   ]
  },
  {
   "cell_type": "markdown",
   "id": "cbfdacc5",
   "metadata": {},
   "source": [
    "# THE END"
   ]
  },
  {
   "cell_type": "code",
   "execution_count": 32,
   "id": "8705c491",
   "metadata": {},
   "outputs": [
    {
     "ename": "RuntimeError",
     "evalue": "Execution stopped intentionally.",
     "output_type": "error",
     "traceback": [
      "\u001b[0;31m---------------------------------------------------------------------------\u001b[0m",
      "\u001b[0;31mRuntimeError\u001b[0m                              Traceback (most recent call last)",
      "Cell \u001b[0;32mIn[32], line 1\u001b[0m\n\u001b[0;32m----> 1\u001b[0m \u001b[38;5;28;01mraise\u001b[39;00m \u001b[38;5;167;01mRuntimeError\u001b[39;00m(\u001b[38;5;124m\"\u001b[39m\u001b[38;5;124mExecution stopped intentionally.\u001b[39m\u001b[38;5;124m\"\u001b[39m)\n",
      "\u001b[0;31mRuntimeError\u001b[0m: Execution stopped intentionally."
     ]
    }
   ],
   "source": [
    "raise RuntimeError(\"Execution stopped intentionally.\")"
   ]
  },
  {
   "cell_type": "markdown",
   "id": "4fc60e56",
   "metadata": {},
   "source": [
    "# <a id='build_qubo_ip'>Build the QUBO matrix (IP)</a>"
   ]
  },
  {
   "cell_type": "code",
   "execution_count": 2,
   "id": "5402fbbf",
   "metadata": {},
   "outputs": [],
   "source": [
    "# USE THIS\n",
    "def max_lattice_translation_old(lattice_vectors, R_max):\n",
    "    # Calculate the maximum rnx, rny, and rnz\n",
    "    norm_0 = np.linalg.norm(lattice_vectors[0])\n",
    "    norm_1 = np.linalg.norm(lattice_vectors[1])\n",
    "    norm_2 = np.linalg.norm(lattice_vectors[2])\n",
    "    \n",
    "    max_rnx = int(R_max / norm_0)\n",
    "    max_rny = int(R_max / norm_1)\n",
    "    max_rnz = int(R_max / norm_2)\n",
    "    \n",
    "    max_rnx, max_rny, max_rnz = np.meshgrid(np.arange(-max_rnx, max_rnx+1),\n",
    "                                            np.arange(-max_rny, max_rny+1),\n",
    "                                            np.arange(-max_rnz, max_rnz+1),\n",
    "                                            indexing='ij')\n",
    "    \n",
    "    shifts = (max_rnx[..., np.newaxis] * lattice_vectors[0] + \n",
    "              max_rny[..., np.newaxis] * lattice_vectors[1] + \n",
    "              max_rnz[..., np.newaxis] * lattice_vectors[2])\n",
    "    \n",
    "    shift_norms = np.linalg.norm(shifts, axis=-1)\n",
    "    \n",
    "    valid_indices = np.where(shift_norms <= R_max)\n",
    "    \n",
    "    max_translation = np.array([max_rnx[valid_indices].max(),\n",
    "                                max_rny[valid_indices].max(),\n",
    "                                max_rnz[valid_indices].max()])\n",
    "    \n",
    "    return max_translation\n",
    "\n",
    "def compute_ewald_matrix(structure, sigma=None, R_max=None, G_max=None, \n",
    "\n",
    "                         max_shift = None,charge=None,w=1,print_info=False, triu=False, \n",
    "                         distance_analysis = False, distance_threshold = 0.1):\n",
    "    \"\"\"\n",
    "    Parameters:\n",
    "    frac_coords (ndarray): Relative positions of particles (Nx3).\n",
    "    lattice_vectors (ndarray): Lattice vectors of the unit cell (3x3).\n",
    "    sigma (float): Ewald parameter controlling the split between real and reciprocal sums. If None, it's calculated.\n",
    "    max_shift (int): Depth of the real and reciprocal space summation.\n",
    "    reciprocal_depth (int): Depth of the reciprocal space summation.\n",
    "    charge (ndarray): charges of the system (Nx1).\n",
    "\n",
    "    Returns:\n",
    "    ndarray: Ewald summation matrix (NxN).\n",
    "    \"\"\"\n",
    "    from numpy.linalg import norm\n",
    "    \n",
    "    TO_EV = 14.39964390675221758120\n",
    "    \n",
    "    t0 = time.time()\n",
    "    \n",
    "    frac_coords = structure.frac_coords\n",
    "    lattice_vectors = structure.lattice.matrix\n",
    "    distance_matrix = structure.distance_matrix\n",
    "\n",
    "    N = len(frac_coords)\n",
    "    V = np.linalg.det(lattice_vectors)\n",
    "    \n",
    "    reciprocal_vectors = 2 * np.pi * np.linalg.inv(lattice_vectors).T\n",
    "    \n",
    "    \n",
    "    # Calculate alpha if not provided\n",
    "    if sigma is None:\n",
    "        Sigma = ((N * w * np.pi**3) / V**2)**(-1/6)\n",
    "        \n",
    "    alpha = np.sqrt(1/Sigma)\n",
    "    \n",
    "\n",
    "    A = 1e-17 \n",
    "    f = np.sqrt(-np.log(A))\n",
    "\n",
    "    # Calculate R_max and G_max\n",
    "    if R_max == None:\n",
    "        R_max = f * np.sqrt(alpha)\n",
    "        R_max = np.sqrt(-np.log(A)*Sigma**2)\n",
    "    \n",
    "    if G_max == None:\n",
    "        G_max = 2 * f * np.sqrt(alpha)\n",
    "        G_max = 2/Sigma * np.sqrt(-np.log(A))\n",
    "\n",
    "    \n",
    "    \n",
    "    cart_coords = frac_coords @ lattice_vectors\n",
    "    \n",
    "    \n",
    "    if max_shift == None:\n",
    "        real_space_max = max_lattice_translation_old(lattice_vectors,R_max)\n",
    "        reci_space_max = max_lattice_translation_old(reciprocal_vectors,G_max)\n",
    "    \n",
    "        real_reci_space_max = np.maximum(real_space_max,reci_space_max)\n",
    "        \n",
    "        nx = real_reci_space_max[0]\n",
    "        ny = real_reci_space_max[1]\n",
    "        nz = real_reci_space_max[2]\n",
    "        # print(nx,ny,nz)\n",
    "    else:\n",
    "        nx = ny = nz = max_shift # To improve\n",
    "    \n",
    "    # Main computation\n",
    "    \n",
    "\n",
    "    \n",
    "    Real_E = Reci_E = 0.\n",
    "    \n",
    "    Ewald_real = np.zeros((N,N))\n",
    "    Ewald_recip = np.zeros((N,N))\n",
    "    Ewald_recip_self = np.zeros((N,N))\n",
    "    \n",
    "    if print_info == True:\n",
    "        print('reciprocal_vectors\\n',reciprocal_vectors)\n",
    "\n",
    "        print(f'Volume = {V}')\n",
    "        print(f'w={w}')\n",
    "        \n",
    "        print(f'alpha= {alpha}, sigma={Sigma},R_max = {R_max}, G_max = {G_max}')\n",
    "        print(f'Charge = {charge}')\n",
    "        \n",
    "        #print('Cart coords\\n',cart_coords)\n",
    "        print(f'Max vectors = {nx},{ny},{nz}')\n",
    "\n",
    "    for i in tqdm(range(N), desc=\"Computing real space\"):\n",
    "        for j in range(i,N):\n",
    "            dr = cart_coords[i]-cart_coords[j]\n",
    "            dr_dm = distance_matrix[i][j]\n",
    "\n",
    "            if i != j and  distance_analysis == True and dr_dm < distance_threshold:\n",
    "                Ewald_real[i,j] = 1e6\n",
    "                print(i,j,np.linalg.norm(dr),dr_dm)\n",
    "            else:    \n",
    "                dr_init = cart_coords[i]-cart_coords[j]\n",
    "                dr_frac = frac_coords[i]-frac_coords[j]\n",
    "\n",
    "                for rnx in range(-nx, nx + 1):\n",
    "                    for rny in range(-ny, ny + 1):\n",
    "                        for rnz in range(-nz, nz + 1):\n",
    "\n",
    "                            lattice_translation = np.array([rnx, rny, rnz])\n",
    "\n",
    "                            shift = rnx*lattice_vectors[0]+rny*lattice_vectors[1]+rnz*lattice_vectors[2]\n",
    "                            if np.linalg.norm(shift) < R_max:\n",
    "                                dr = dr_init + shift\n",
    "\n",
    "                                if np.all(lattice_translation == 0):\n",
    "\n",
    "                                    if i != j:\n",
    "                                        Ewald_real[i,j] += 0.5 / norm(dr) * math.erfc(norm(dr)/Sigma) * TO_EV\n",
    "#                                         Real_E          += 0.5 * charge[i] * charge[j] / norm(dr) * math.erfc(norm(dr)/Sigma) * TO_EV\n",
    "                                    else:\n",
    "                                        Ewald_recip_self[i,j] += -1 / Sigma / math.sqrt(np.pi) * TO_EV\n",
    "\n",
    "\n",
    "                                else:\n",
    "\n",
    "                                    Ewald_real[i,j] += 0.5 / norm(dr) * math.erfc(norm(dr)/Sigma) * TO_EV\n",
    "#                                     Real_E          += 0.5 * charge[i] * charge[j] / norm(dr) * math.erfc(norm(dr)/Sigma) * TO_EV\n",
    "\n",
    "                                # Reciprocal sum\n",
    "\n",
    "                            gr = rnx*reciprocal_vectors[0]+rny*reciprocal_vectors[1]+rnz*reciprocal_vectors[2]\n",
    "                            if np.linalg.norm(gr) < G_max:\n",
    "\n",
    "                                if np.any(lattice_translation != 0):\n",
    "                                    g_2 = np.dot(gr, gr)\n",
    "\n",
    "#                                     Reci_E += TO_EV * (2 * np.pi / V) * (charge[i] * charge[j]) * math.exp(-0.25 * Sigma * Sigma * g_2) / g_2 * math.cos(np.dot(gr, dr))\n",
    "                                    Ewald_recip[i,j] +=  TO_EV * (2 * np.pi / V) * math.exp(-0.25 * Sigma * Sigma * g_2) / g_2 * math.cos(np.dot(gr, dr))\n",
    "\n",
    "    Ewald_full = Ewald_real+Ewald_recip+Ewald_recip_self\n",
    "    \n",
    "    for i in np.arange(N):\n",
    "        for j in np.arange(i):\n",
    "            Ewald_full[i, j] = Ewald_full[j, i]\n",
    "            \n",
    "    if triu == True:\n",
    "        Ewald_tmp = np.triu(Ewald_full)*2\n",
    "        np.fill_diagonal(Ewald_tmp,Ewald_full.diagonal())\n",
    "        Ewald_full = np.copy(Ewald_tmp)\n",
    "    \n",
    "#     Reci_self = sum(-(charge[i]**2) / Sigma / math.sqrt(np.pi) * TO_EV for i in range(N))\n",
    "    \n",
    "    if print_info == True:\n",
    "        \n",
    "        print(f\"Real sum: {Real_E:.8f} eV\")\n",
    "        print(f\"Reciprocal sum: {Reci_E:.8f} eV\")\n",
    "        print(f\"Reciprocal self (eV): {Reci_self:.16f}\")\n",
    "        print(f\"Reciprocal (eV): {Reci_self + Reci_E:.16f}\")\n",
    "        print(f\"Total (eV): {Real_E + Reci_E + Reci_self:.16f}\")\n",
    "    \n",
    "    return Ewald_full\n",
    "\n",
    "\n",
    "def calculate_potential_energy(ewald_matrix, charges):\n",
    "    \"\"\"\n",
    "    Calculate the potential energy of the system given the Ewald summation matrix and charges.\n",
    "\n",
    "    Parameters:\n",
    "    ewald_matrix (ndarray): Ewald summation matrix (NxN).\n",
    "    charges (ndarray): Charges of the particles (N).\n",
    "\n",
    "    Returns:\n",
    "    float: Total potential energy of the system.\n",
    "    \"\"\"\n",
    "    \n",
    "    charges = np.array(charges)\n",
    "    \n",
    "    \n",
    "    return  charges[:, np.newaxis] * charges[np.newaxis, :] * ewald_matrix"
   ]
  },
  {
   "cell_type": "code",
   "execution_count": 3,
   "id": "7f433bce",
   "metadata": {},
   "outputs": [],
   "source": [
    "def buckingham_potential(param, r):\n",
    "    \"\"\"\n",
    "    Calculate the Buckingham potential for a given distance.\n",
    "\n",
    "    Parameters:\n",
    "    A (float): Constant A in the Buckingham potential equation.\n",
    "    Rho (float): Constant Rho in the Buckingham potential equation.\n",
    "    C (float): Constant C in the Buckingham potential equation.\n",
    "    r (float): Distance between two atoms.\n",
    "\n",
    "    Returns:\n",
    "    float: Potential energy at distance r.\n",
    "    \"\"\"\n",
    "    A = param[0]\n",
    "    Rho = param[1]\n",
    "    C = param[2]\n",
    "    \n",
    "    V = A * np.exp(-r / Rho) - C / r**6\n",
    "    return V\n"
   ]
  },
  {
   "cell_type": "code",
   "execution_count": 4,
   "id": "04cc01d9",
   "metadata": {},
   "outputs": [],
   "source": [
    "#python\n",
    "def compute_buckingham_matrix(structure, buckingham_dict, R_max, max_shift=None, \n",
    "                              distance_analysis = False, distance_threshold = 0.1):\n",
    "    \"\"\"\n",
    "    Compute the Buckingham potential matrix for a system of particles.\n",
    "\n",
    "    Parameters:\n",
    "    positions (ndarray): Relative positions of particles (Nx3).\n",
    "    lattice_vectors (ndarray): Lattice vectors of the unit cell (3x3).\n",
    "\n",
    "    \"\"\"\n",
    "    frac_coords = structure.frac_coords\n",
    "    lattice_vectors = structure.lattice.matrix\n",
    "    sites = structure.sites\n",
    "    distance_matrix = structure.distance_matrix\n",
    "    \n",
    "    TO_EV = 14.39964390675221758120\n",
    "    \n",
    "    t0 = time.time()\n",
    "    \n",
    "    N = structure.num_sites\n",
    "    V = np.linalg.det(lattice_vectors)\n",
    "    \n",
    "    cart_coords = frac_coords @ lattice_vectors\n",
    "    \n",
    "    if max_shift == None:\n",
    "        max_real = max_lattice_translation_old(lattice_vectors, R_max)\n",
    "        nx = max_real[0]\n",
    "        ny = max_real[1]\n",
    "        nz = max_real[2]\n",
    "    else:\n",
    "        ny = nz = nx = max_shift\n",
    "    #print(f'Max vectors = {nx},{ny},{nz}')\n",
    "    buckingham_matrix = np.zeros((N,N))\n",
    "    \n",
    "    for i in tqdm(range(N), desc=\"Buckingham matrix\"):\n",
    "        for j in range(i+1,N):\n",
    "            \n",
    "            sites_label = f'{sites[i].specie}-{sites[j].specie}'\n",
    "            if sites_label in buckingham_dict:\n",
    "                dr_init = cart_coords[i]-cart_coords[j]\n",
    "                dr_dm = distance_matrix[i][j]\n",
    "                if i != j and distance_analysis == True and dr_dm < distance_threshold:\n",
    "                    buckingham_matrix[i,j] = 1e6\n",
    "                else:\n",
    "                    for rnx in range(-nx, nx + 1):\n",
    "                        for rny in range(-ny, ny + 1):\n",
    "                            for rnz in range(-nz, nz + 1):\n",
    "\n",
    "                                lattice_translation = np.array([rnx, rny, rnz])\n",
    "\n",
    "                                shift = rnx*lattice_vectors[0]+rny*lattice_vectors[1]+rnz*lattice_vectors[2]\n",
    "                                dr = dr_init + shift\n",
    "                                if np.linalg.norm(dr) < R_max:\n",
    "                                    dr = dr_init + shift\n",
    "    #                                 print(dr,np.linalg.norm(dr), buckingham_dict[sites_label],buckingham_potential(buckingham_dict[sites_label],\n",
    "    #                                                                          np.linalg.norm(dr)))\n",
    "                                    buckingham_matrix[i][j] += buckingham_potential(buckingham_dict[sites_label],\n",
    "                                                                         np.linalg.norm(dr))\n",
    "    return buckingham_matrix\n"
   ]
  },
  {
   "cell_type": "markdown",
   "id": "ca6829a5",
   "metadata": {},
   "source": [
    "## Test IP functions"
   ]
  },
  {
   "cell_type": "code",
   "execution_count": 6,
   "id": "9fac23f2",
   "metadata": {},
   "outputs": [],
   "source": [
    "i = 1\n",
    "with open(f'data/database/config_size_{i}.pkl', 'rb') as file:\n",
    "    data = pickle.load(file)\n",
    "structure_test = db_to_structure(data[list(data.keys())[0]])"
   ]
  },
  {
   "cell_type": "code",
   "execution_count": 7,
   "id": "96eb9ad4",
   "metadata": {},
   "outputs": [
    {
     "name": "stdout",
     "output_type": "stream",
     "text": [
      "[ 3.  4.  4.  4.  4.  4.  4.  4.  4.  4.  4.  4.  4.  4.  4.  4.  4.  4.\n",
      "  4.  4.  4.  4.  4.  4.  1. -2. -2. -2. -2. -2. -2. -2. -2. -2. -2. -2.\n",
      " -2. -2. -2. -2. -2. -2. -2. -2. -2. -2. -2. -2. -2. -2. -2. -2. -2. -2.\n",
      " -2. -2. -2. -2. -2. -2. -2. -2. -2. -2. -2. -2. -2. -2. -2. -2. -2. -2.\n",
      " -2.]\n"
     ]
    },
    {
     "name": "stderr",
     "output_type": "stream",
     "text": [
      "Computing real space: 100%|██████████| 73/73 [00:27<00:00,  2.69it/s]\n",
      "Buckingham matrix: 100%|██████████| 73/73 [00:01<00:00, 42.76it/s]"
     ]
    },
    {
     "name": "stdout",
     "output_type": "stream",
     "text": [
      "Total time: 28.843833208084106\n"
     ]
    },
    {
     "name": "stderr",
     "output_type": "stream",
     "text": [
      "\n"
     ]
    }
   ],
   "source": [
    "atomic_numbers = np.array(structure_test.atomic_numbers)\n",
    "\n",
    "charges_dict = {3:+1,\n",
    "                43:+3,\n",
    "                25:+4,\n",
    "                8:-2\n",
    "}\n",
    "\n",
    "buckingham_dict = {'Li-O':[426.480 ,    0.3000  ,   0.00],\n",
    "                   'Mn-O':[3087.826    ,   0.2642 ,    0.00], \n",
    "                   'Tc-O':[1686.125  ,    0.2962 ,    0.00],\n",
    "                   'O-O' : [22.410  ,     0.6937,   32.32]\n",
    "                  }\n",
    "\n",
    "n_sites = len(atomic_numbers)\n",
    "charges = np.zeros(n_sites)\n",
    "for atom_type in charges_dict.keys():\n",
    "    index = np.where(atomic_numbers == atom_type)[0]\n",
    "    charges[index] = charges_dict[atom_type]\n",
    "print(charges) \n",
    "time_init = time.time()\n",
    "ewald_matrix = compute_ewald_matrix(structure_test,sigma=None,max_shift = None,\n",
    "                                    w=0.123,triu=True, distance_analysis=True)#,R_max=15, G_max=15,max_shift = 5)\n",
    "# print(f'Total time: {time.time()-time_init}')\n",
    "compute_buckingham_matrix(structure_test, buckingham_dict, R_max=25, max_shift=None, \n",
    "                              distance_analysis = False, distance_threshold = 0.1)\n",
    "print(f'Total time: {time.time()-time_init}')\n",
    "#                                     R_max=15, G_max=15, max_shift = 10)\n",
    "#np.sum(calculate_potential_energy(ewald_matrix,charges))"
   ]
  },
  {
   "cell_type": "code",
   "execution_count": null,
   "id": "6b1cd67d",
   "metadata": {},
   "outputs": [
    {
     "name": "stderr",
     "output_type": "stream",
     "text": [
      "Computing real space: 100%|██████████| 73/73 [00:29<00:00,  2.47it/s]\n"
     ]
    }
   ],
   "source": [
    "structure = copy.deepcopy(structure_test)\n",
    "structure[0] = 'Mn'\n",
    "ewald_matrix = compute_ewald_matrix(structure,sigma=None,max_shift = None,\n",
    "                                    w=0.123,triu=True, distance_analysis=True,\n",
    "                                    distance_threshold=0.1)"
   ]
  },
  {
   "cell_type": "code",
   "execution_count": 17,
   "id": "57970168",
   "metadata": {},
   "outputs": [
    {
     "data": {
      "text/plain": [
       "(array([ 1,  2,  3,  4,  5,  6,  7,  8,  9, 10, 11, 12, 13, 14, 15, 16, 17,\n",
       "        18, 19, 20, 21, 22, 23]),)"
      ]
     },
     "execution_count": 17,
     "metadata": {},
     "output_type": "execute_result"
    }
   ],
   "source": [
    "mn_indices"
   ]
  },
  {
   "cell_type": "code",
   "execution_count": 24,
   "id": "50e078ae",
   "metadata": {},
   "outputs": [],
   "source": [
    "atomic_numbers = np.array(structure_test.atomic_numbers)\n",
    "\n",
    "mn_indices = np.where((atomic_numbers == 23) | (atomic_numbers == 25))[0]\n",
    "li_indices = np.where((atomic_numbers == 3))[0]\n",
    "o_indices = np.where((atomic_numbers == 8))[0]\n",
    "expanded_ewald_matrix = expand_ewald_matrix(ewald_matrix, mn_indices)"
   ]
  },
  {
   "cell_type": "code",
   "execution_count": 20,
   "id": "e18fb165",
   "metadata": {},
   "outputs": [],
   "source": [
    "weighted_ewald = build_charge_weighted_ewald(structure_test, expanded_ewald_matrix)"
   ]
  },
  {
   "cell_type": "code",
   "execution_count": 25,
   "id": "49054383",
   "metadata": {},
   "outputs": [],
   "source": [
    "final_ewald,oxygen_energy = project_and_remove_oxygen(weighted_ewald, structure_test, mn_indices, li_indices, o_indices)"
   ]
  },
  {
   "cell_type": "code",
   "execution_count": 29,
   "id": "be9c3d7f",
   "metadata": {},
   "outputs": [
    {
     "name": "stdout",
     "output_type": "stream",
     "text": [
      "[1 0 1 0 1 0 1 0 1 0 1 0 1 0 1 0 1 0 1 0 1 0 1 0 1 0 1 0 1 0 1 0 1 0 1 0 1\n",
      " 0 1 0 1 0 1 0 1 0 1]\n",
      "[1 0 1 0 1 0 1 0 1 0 1 0 1 0 1 0 1 0 1 0 1 0 1 0 1 0 1 0 1 0 1 0 0 1 1 0 1\n",
      " 0 1 0 1 0 1 0 1 0 1]\n"
     ]
    }
   ],
   "source": [
    "binary_vector = generate_binary_array(\n",
    "    mn_indices, li_indices)\n",
    "print(binary_vector)\n",
    "\n",
    "binary_vector = generate_random_binary_array(\n",
    "    mn_indices, li_indices, n_active=1, seed=133)\n",
    "\n",
    "print(binary_vector)\n",
    "\n"
   ]
  },
  {
   "cell_type": "markdown",
   "id": "9d9354b6",
   "metadata": {},
   "source": [
    "### Buckingham discrete"
   ]
  },
  {
   "cell_type": "code",
   "execution_count": null,
   "id": "73432ce6",
   "metadata": {},
   "outputs": [
    {
     "name": "stderr",
     "output_type": "stream",
     "text": [
      "Buckingham matrix: 100%|██████████| 97/97 [00:02<00:00, 34.90it/s]\n"
     ]
    }
   ],
   "source": [
    "# Example data (simplified)\n",
    "atomic_numbers = np.array(structure.atomic_numbers)\n",
    "coordinates = structure.frac_coords  # Random coordinates for 6 atoms\n",
    "\n",
    "\n",
    "# Expand atomic structure\n",
    "expanded_atomic_numbers, expanded_coordinates = expand_atomic_structure(atomic_numbers, coordinates, mn_indices)\n",
    "\n",
    "structure_new = Structure(structure.lattice,expanded_atomic_numbers,expanded_coordinates)\n",
    "\n",
    "buckingham_dict = {'Li-O':[426.480 ,    0.3000  ,   0.00],\n",
    "                    'Mn-O':[3087.826    ,   0.2642 ,    0.00], # This is the Mn4+\n",
    "                   'Tc-O':[1686.125  ,    0.2962 ,    0.00], \n",
    "                   'O-O' : [22.410  ,     0.6937,   32.32]\n",
    "                  }\n",
    "    \n",
    "ip_matrix_expanded = compute_buckingham_matrix(structure_new, buckingham_dict, 25, \n",
    "                                             max_shift=None, distance_analysis = False, \n",
    "                                             distance_threshold = 0.1)"
   ]
  },
  {
   "cell_type": "code",
   "execution_count": null,
   "id": "197bb657",
   "metadata": {},
   "outputs": [],
   "source": [
    "expanded_atomic_numbers, expanded_coordinates = expand_atomic_structure(atomic_numbers, coordinates, mn_indices)\n",
    "ip_matrix_expanded_reduced, oo_energy = project_and_remove_oxygen_from_buckingham(ip_matrix_expanded, expanded_atomic_numbers)"
   ]
  },
  {
   "cell_type": "code",
   "execution_count": 31,
   "id": "5b0e55df",
   "metadata": {},
   "outputs": [
    {
     "name": "stderr",
     "output_type": "stream",
     "text": [
      "Computing real space: 100%|██████████| 73/73 [00:27<00:00,  2.69it/s]\n",
      "Buckingham matrix: 100%|██████████| 97/97 [00:02<00:00, 37.36it/s]\n"
     ]
    }
   ],
   "source": [
    "# I copied this into QC_functions, but I am keeping it here too atm\n",
    "def build_qubo_limno_disc(structure, R_max_IP=25, sigma=None, R_max_Ewald=None, \n",
    "                     G_max=None, max_shift = None,w=0.123,print_info=False, triu=False, \n",
    "                         distance_analysis = False, distance_threshold = 0.1):\n",
    "    \n",
    "    # structure: pymatgen Structure than contains all the Li sites (and Mn and O)\n",
    "\n",
    "    # Build the initial Ewald matrix\n",
    "\n",
    "    ewald_matrix = compute_ewald_matrix(structure,sigma=sigma,max_shift = max_shift,\n",
    "                                    w=w,triu=triu, distance_analysis=distance_analysis,\n",
    "                                    distance_threshold=distance_threshold)\n",
    "    \n",
    "   \n",
    "    # Make the Ewald matrix discrete in the Mn positions\n",
    "    atomic_numbers = np.array(structure.atomic_numbers)\n",
    "    num_sites = structure.num_sites\n",
    "    frac_coordinates = structure.frac_coords  \n",
    "\n",
    "    li_indices = np.where(atomic_numbers == 3)[0]\n",
    "    mn_indices = np.where(atomic_numbers == 25)[0]\n",
    "    o_indices = np.where(atomic_numbers == 8)[0]\n",
    "\n",
    "    expanded_ewald_matrix = expand_ewald_matrix(ewald_matrix, mn_indices)\n",
    "\n",
    "    # Multiply by the charges (+4, +3, +1 and -2)\n",
    "    \n",
    "    weighted_ewald = build_charge_weighted_ewald(structure, expanded_ewald_matrix)\n",
    "\n",
    "    # Remove the oxygen, reduce the size of the matrix and get the O-O energy\n",
    "\n",
    "    final_ewald, oo_ewald_energy = project_and_remove_oxygen(\n",
    "        weighted_ewald, structure, mn_indices, li_indices, o_indices)\n",
    "    \n",
    "\n",
    "    # Expand atomic structure\n",
    "    expanded_atomic_numbers, expanded_coordinates = expand_atomic_structure(\n",
    "        atomic_numbers, frac_coordinates, mn_indices)\n",
    "\n",
    "\n",
    "    structure_new = Structure(structure.lattice,expanded_atomic_numbers,\n",
    "                              expanded_coordinates)\n",
    "\n",
    "    buckingham_dict = {'Li-O':[426.480 ,    0.3000  ,   0.00],\n",
    "                       'Mn-O':[3087.826    ,   0.2642 ,    0.00], # This is the Mn4+\n",
    "                       'Tc-O':[1686.125  ,    0.2962 ,    0.00], # This is the Mn3+\n",
    "                       'O-O' : [22.410  ,     0.6937,   32.32]\n",
    "                       }\n",
    "        \n",
    "    ip_matrix_expanded = compute_buckingham_matrix(structure_new, buckingham_dict, 25, \n",
    "                                                max_shift=None, distance_analysis = False, \n",
    "                                                distance_threshold = 0.1)\n",
    "\n",
    "    ip_matrix_expanded_reduced, oo_ip_energy = project_and_remove_oxygen_from_buckingham(\n",
    "                    ip_matrix_expanded, expanded_atomic_numbers)\n",
    "    \n",
    "    Q_matrix = final_ewald + ip_matrix_expanded_reduced\n",
    "    oo_energy = oo_ewald_energy + oo_ip_energy\n",
    "\n",
    "    return Q_matrix, oo_energy\n",
    "\n",
    "structure = copy.deepcopy(structure_test)\n",
    "structure[0] = 'Mn'\n",
    "Q_matrix, oo_energy = build_qubo_limno_disc(structure,sigma=None,max_shift = None,\n",
    "                                    w=0.123,triu=True, distance_analysis=True,\n",
    "                                    distance_threshold=0.1)"
   ]
  },
  {
   "cell_type": "code",
   "execution_count": 34,
   "id": "4be54f9c",
   "metadata": {},
   "outputs": [
    {
     "data": {
      "text/plain": [
       "array([   0.        ,    0.        ,    0.        ,    0.        ,\n",
       "          0.        ,    0.        ,    0.        ,    0.        ,\n",
       "          0.        ,    0.        ,    0.        ,    0.        ,\n",
       "          0.        ,    0.        ,    0.        ,    0.        ,\n",
       "          0.        ,    0.        ,    0.        ,    0.        ,\n",
       "          0.        ,    0.        ,    0.        ,    0.        ,\n",
       "          0.        ,    0.        ,    0.        ,    0.        ,\n",
       "          0.        ,    0.        ,    0.        ,    0.        ,\n",
       "          0.        ,    0.        ,    0.        ,    0.        ,\n",
       "          0.        ,    0.        ,  -22.67879191, -211.83327843,\n",
       "         -0.78544149,   -0.58908112,   -2.01919731,   -1.51439798,\n",
       "         -1.49233489,   -1.11925117,   11.19690872,    8.39768154,\n",
       "          3.44663475])"
      ]
     },
     "execution_count": 34,
     "metadata": {},
     "output_type": "execute_result"
    }
   ],
   "source": [
    "Q_matrix[-10]"
   ]
  },
  {
   "cell_type": "code",
   "execution_count": 30,
   "id": "82214b58",
   "metadata": {},
   "outputs": [
    {
     "ename": "NameError",
     "evalue": "name 'final_model' is not defined",
     "output_type": "error",
     "traceback": [
      "\u001b[0;31m---------------------------------------------------------------------------\u001b[0m",
      "\u001b[0;31mNameError\u001b[0m                                 Traceback (most recent call last)",
      "Cell \u001b[0;32mIn[30], line 1\u001b[0m\n\u001b[0;32m----> 1\u001b[0m Q_matrix, oo_energy \u001b[38;5;241m=\u001b[39m build_qubo_limno_disc(\u001b[43mfinal_model\u001b[49m,sigma\u001b[38;5;241m=\u001b[39m\u001b[38;5;28;01mNone\u001b[39;00m,max_shift \u001b[38;5;241m=\u001b[39m \u001b[38;5;28;01mNone\u001b[39;00m,\n\u001b[1;32m      2\u001b[0m                                     w\u001b[38;5;241m=\u001b[39m\u001b[38;5;241m0.123\u001b[39m,triu\u001b[38;5;241m=\u001b[39m\u001b[38;5;28;01mTrue\u001b[39;00m, distance_analysis\u001b[38;5;241m=\u001b[39m\u001b[38;5;28;01mTrue\u001b[39;00m,\n\u001b[1;32m      3\u001b[0m                                     distance_threshold\u001b[38;5;241m=\u001b[39m\u001b[38;5;241m0.1\u001b[39m)\n",
      "\u001b[0;31mNameError\u001b[0m: name 'final_model' is not defined"
     ]
    }
   ],
   "source": [
    "Q_matrix, oo_energy = build_qubo_limno_disc(final_model,sigma=None,max_shift = None,\n",
    "                                    w=0.123,triu=True, distance_analysis=True,\n",
    "                                    distance_threshold=0.1)"
   ]
  },
  {
   "cell_type": "markdown",
   "id": "16b1eed6",
   "metadata": {},
   "source": [
    "### Distance matrix filter"
   ]
  },
  {
   "cell_type": "code",
   "execution_count": 461,
   "id": "1ceefc24",
   "metadata": {},
   "outputs": [],
   "source": [
    "mn_indices = np.where(np.array(final_model.atomic_numbers) == 25)[0]\n",
    "li_indices = np.where(np.array(final_model.atomic_numbers) == 3)[0]\n",
    "\n",
    "mn_sites_final = []\n",
    "[mn_sites_final.append( final_model[i]) for i in  mn_indices]\n",
    "li_sites_final = []\n",
    "[li_sites_final.append( final_model[i]) for i in  li_indices]\n",
    "\n",
    "\n",
    "\n",
    "all_sites_final = copy.deepcopy(mn_sites_final)\n",
    "all_sites_final.extend(li_sites_final)\n",
    "\n",
    "final_model_no_o = Structure.from_sites(all_sites_final)\n",
    "\n",
    "final_model_no_o_dm = final_model_no_o.distance_matrix\n",
    "\n",
    "nn_shift = (final_model_no_o_dm < 1) * 1e11\n",
    "nn_shift = np.triu(nn_shift,1)\n",
    "nn_shift_expanded = expand_ewald_matrix(nn_shift,mn_indices)\n",
    "Q_matrix += nn_shift_expanded"
   ]
  },
  {
   "cell_type": "code",
   "execution_count": 1128,
   "id": "593830e6",
   "metadata": {},
   "outputs": [
    {
     "name": "stdout",
     "output_type": "stream",
     "text": [
      "1259999999154.9673\n",
      "[0 1 0 1 0 1 0 1 0 1 0 1 0 1 0 1 0 1 0 1 0 1 0 1 0 1 0 1 0 1 0 1 0 1 0 1 0\n",
      " 1 0 1 0 1 0 1 0 1 0 1 1 1 1 0 1 1 0 0 0 1 1 0 1 1 0 0 1 1 0 0 1 0 0 0 1 0\n",
      " 1 0 1 1 1 1 0 0 1 1 1 0 0 0 0 0 1 1 1 0 0]\n"
     ]
    }
   ],
   "source": [
    "x = generate_random_binary_array(mn_indices, li_indices,n_active=24)\n",
    "\n",
    "print(classical_energy(x, Q_matrix + nn_shift_expanded )+oo_energy)\n",
    "print(x)"
   ]
  },
  {
   "cell_type": "markdown",
   "id": "8e8d8a53",
   "metadata": {},
   "source": [
    "## Plot the QUBO heat map"
   ]
  },
  {
   "cell_type": "code",
   "execution_count": 790,
   "id": "9d02ada9",
   "metadata": {},
   "outputs": [
    {
     "data": {
      "image/png": "[encoded data removed]",
      "text/plain": [
       "<Figure size 600x500 with 2 Axes>"
      ]
     },
     "metadata": {},
     "output_type": "display_data"
    }
   ],
   "source": [
    "import numpy as np\n",
    "import matplotlib.pyplot as plt\n",
    "from matplotlib.colors import TwoSlopeNorm\n",
    "\n",
    "# Example Ewald matrix\n",
    "\n",
    "# Plotting\n",
    "fig, ax = plt.subplots(figsize=(6, 5))\n",
    "\n",
    "# Use TwoSlopeNorm to center the colormap at 0 (white)\n",
    "norm = TwoSlopeNorm(vmin=np.min(Q_matrix), vcenter=0, vmax=np.max(Q_matrix))\n",
    "\n",
    "# Use 'seismic' or 'bwr' diverging colormap\n",
    "cmap = plt.get_cmap('seismic')  # or 'bwr'\n",
    "\n",
    "cax = ax.imshow(Q_matrix, cmap=cmap, norm=norm)\n",
    "\n",
    "# Add colorbar\n",
    "cbar = plt.colorbar(cax, ax=ax, fraction=0.046, pad=0.04)\n",
    "cbar.set_label(\"Ewald Matrix Value\")\n",
    "\n",
    "ax.set_title(\"Ewald Matrix Heatmap\")\n",
    "plt.tight_layout()\n",
    "plt.show()"
   ]
  },
  {
   "cell_type": "code",
   "execution_count": null,
   "id": "09b66437",
   "metadata": {},
   "outputs": [],
   "source": []
  },
  {
   "cell_type": "code",
   "execution_count": null,
   "id": "698a9a3c",
   "metadata": {},
   "outputs": [],
   "source": []
  },
  {
   "cell_type": "code",
   "execution_count": null,
   "id": "9e48d8b2",
   "metadata": {},
   "outputs": [],
   "source": []
  }
 ],
 "metadata": {
  "kernelspec": {
   "display_name": "qubo_gulp",
   "language": "python",
   "name": "python3"
  },
  "language_info": {
   "codemirror_mode": {
    "name": "ipython",
    "version": 3
   },
   "file_extension": ".py",
   "mimetype": "text/x-python",
   "name": "python",
   "nbconvert_exporter": "python",
   "pygments_lexer": "ipython3",
   "version": "3.10.14"
  }
 },
 "nbformat": 4,
 "nbformat_minor": 5
}
